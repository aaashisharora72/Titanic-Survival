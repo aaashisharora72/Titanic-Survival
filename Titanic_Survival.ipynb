{
 "cells": [
  {
   "cell_type": "markdown",
   "metadata": {
    "_cell_guid": "e4b28603-4424-4074-9df5-d47febfc5f04",
    "_uuid": "db5b5ebf84551f5bc0f607c0a3f8cb67b1d09d46"
   },
   "source": [
    "# Predicting Survival of Passengers on Titanic using Python #"
   ]
  },
  {
   "cell_type": "markdown",
   "metadata": {
    "_cell_guid": "8956fca9-4233-46bd-af53-2e6362304d6f",
    "_uuid": "bfebae2a06d72f4faa312ffd5ec8bf78259a89e0"
   },
   "source": [
    "Sinking of Titanic was one of the most infamous disaster of all times. It sank after colliding with an iceberg, killing 1502 out of 2224 passengers and crew. There were certain classes of people whose probability of survival was higher than others. So in this project we aim to predict whether a person survived this disaster given his/her certain characteristics. To solve this problem, I will be following below mentioned structure:\n",
    "1. Problem Statement \n",
    "1. Hypothesis Generation\n",
    "1. Exploratory Data Analysis(EDA)\n",
    "1. Feature Engineering\n",
    "1. Model Fitting\n",
    "1. Cross Validation and Hyperparameter Optimisation\n",
    "1. Applying model on test set"
   ]
  },
  {
   "cell_type": "markdown",
   "metadata": {
    "_cell_guid": "22368d25-72b5-44a4-b95a-4c5682cba8c8",
    "_uuid": "8111657d3181f1e9b88cdc66a57d342c0416eff1"
   },
   "source": [
    "## 1. Problem Statement  ##"
   ]
  },
  {
   "cell_type": "markdown",
   "metadata": {
    "_cell_guid": "0f3c5509-d76c-4c0b-9917-f52fe839adce",
    "_uuid": "5bf3c606d2401ad464a99d6b1a8af9c224a624cf"
   },
   "source": [
    "In a real world situation,this is one of the most important step because without a well defined problem statement it becomes extremely difficult to build a model. However in this case, we already have a well defined problem statement. i.e. : \n",
    ">**Given a set of characteristics about passengers, predict which passengers survived the Titanic tragedy.**\n"
   ]
  },
  {
   "cell_type": "markdown",
   "metadata": {
    "_cell_guid": "0c565241-ade8-461c-af9c-77cda89ed19a",
    "_uuid": "ca9165dcbc2a6cce7de5eefe7b8d41db4ea63399"
   },
   "source": [
    "## 2. Hypothesis Generation ## "
   ]
  },
  {
   "cell_type": "markdown",
   "metadata": {
    "_cell_guid": "ab7260ad-2d98-472d-9ed9-9014de424f87",
    "_uuid": "6242a55f3d9b129df3613b288b288c0be7728baf"
   },
   "source": [
    "This step involves brainstorming about factors on which survival of a passenger may depend. This step requires a good **domain knowledge**. Though in this case we are already given data beforehand, however in a real world situation we first build our hypothesis and then collect necessary data accordingly. This step may also help later in feature engineering stage, therefore I will try to generate hypothesis before looking at available data. <br><br>\n",
    "**Factors on which survival of a passenger on Titanic may depend are: **\n",
    "* **Gender**: It's a universally established social convention that during any tragedy, women and children are protected first.\n",
    "*  **Age**: Children first.\n",
    "* **Location on ship**: There might be certain cabins or compartments in ship whose passengers were impossible or very difficult to save due to possible reasons like:\n",
    "    * Lack of time: If passenger's Deck/ Cabin was in area which suffered first blow or sank first might have got less time to get on a lifeboat.\n",
    "    * Non-availability of life boat in their area, or nearest lifeboat faraway.\n",
    "* **Socio-Economic Status**: **Money** and **power** can get you many things: It's a universal truth which might have applied on Titanic too.\n",
    "* **Know Swimming?**: Passenger who knew how to swim would have swam to the nearest lifeboat and thus survived.\n",
    "* **Travelling alone or with family?**: A person travelling with a spouse or family would have tried to save their family members first before saving himself/herself. Moreover while accommodating people on lifeboats, there might have been \"Only 1 member per family rule\". \n",
    "\n",
    "I listed some of the factors on which survival of a passenger may depend. We may discover other factors while searching for data. In this case since we already have the data, so we can check what we missed in our hypothesis by looking at it. Vice-a-versa, we can also try to find data for factors which are in our hypothesis set but not in dataset. "
   ]
  },
  {
   "cell_type": "markdown",
   "metadata": {
    "_cell_guid": "54b27da6-c109-4df6-b9d3-a27547cf0b53",
    "_uuid": "48a336968cc19d2eb6739d2fc6862d17ddb5b90e"
   },
   "source": [
    "## 3.Exploratory Data Analysis"
   ]
  },
  {
   "cell_type": "markdown",
   "metadata": {
    "_cell_guid": "3a82fb98-b395-4020-a31c-b6ed4b8a7982",
    "_uuid": "f2f61b334aaf67512ba43b955fe4104cd2253de8"
   },
   "source": [
    "This is the step where we look at data, explore it, try to understand the distribution and draw necessary conclusions and inferences which can be used later to engineer features. So let's start!\n"
   ]
  },
  {
   "cell_type": "code",
   "execution_count": 1,
   "metadata": {
    "_cell_guid": "db380c1e-0c0f-4f47-8576-fd2fbd8b6d8d",
    "_uuid": "2c4d2d23b1573a3bb18bebeb7c03fcd0cc54430f",
    "collapsed": true
   },
   "outputs": [],
   "source": [
    "#Importing necessary libraries\n",
    "import numpy as np # linear algebra\n",
    "import pandas as pd # data processing, CSV file I/O (e.g. pd.read_csv)\n",
    "import seaborn as sns\n",
    "import matplotlib.pyplot as plt\n",
    "from sklearn.model_selection import train_test_split\n",
    "from sklearn.linear_model import LogisticRegression\n",
    "from sklearn.svm import SVC, LinearSVC\n",
    "from sklearn.ensemble import RandomForestClassifier\n",
    "from sklearn.neighbors import KNeighborsClassifier\n",
    "from sklearn.naive_bayes import GaussianNB\n",
    "from sklearn.tree import DecisionTreeClassifier\n",
    "from sklearn.model_selection import KFold\n",
    "from sklearn.metrics import accuracy_score\n",
    "%matplotlib inline\n",
    "import warnings\n",
    "warnings.filterwarnings('ignore')\n",
    "sns.set_style(\"white\")"
   ]
  },
  {
   "cell_type": "code",
   "execution_count": 2,
   "metadata": {
    "_cell_guid": "9ee5fae2-03db-47d4-966d-47b3ffb5f9da",
    "_uuid": "7f5eebdf3307374ddd7b42b171de7f9f0c1c86cd",
    "collapsed": true
   },
   "outputs": [],
   "source": [
    "# Reading train and test dataset into pandas data frame\n",
    "train = pd.read_csv(\"train.csv\")\n",
    "test = pd.read_csv(\"test.csv\")"
   ]
  },
  {
   "cell_type": "code",
   "execution_count": 3,
   "metadata": {
    "_cell_guid": "cf699f7c-a33a-4c72-af6b-22a889bae9c1",
    "_uuid": "842a1cdaa5673a493535f0fd503b93bed791a7e2"
   },
   "outputs": [
    {
     "data": {
      "text/html": [
       "<div>\n",
       "<style>\n",
       "    .dataframe thead tr:only-child th {\n",
       "        text-align: right;\n",
       "    }\n",
       "\n",
       "    .dataframe thead th {\n",
       "        text-align: left;\n",
       "    }\n",
       "\n",
       "    .dataframe tbody tr th {\n",
       "        vertical-align: top;\n",
       "    }\n",
       "</style>\n",
       "<table border=\"1\" class=\"dataframe\">\n",
       "  <thead>\n",
       "    <tr style=\"text-align: right;\">\n",
       "      <th></th>\n",
       "      <th>PassengerId</th>\n",
       "      <th>Survived</th>\n",
       "      <th>Pclass</th>\n",
       "      <th>Name</th>\n",
       "      <th>Sex</th>\n",
       "      <th>Age</th>\n",
       "      <th>SibSp</th>\n",
       "      <th>Parch</th>\n",
       "      <th>Ticket</th>\n",
       "      <th>Fare</th>\n",
       "      <th>Cabin</th>\n",
       "      <th>Embarked</th>\n",
       "    </tr>\n",
       "  </thead>\n",
       "  <tbody>\n",
       "    <tr>\n",
       "      <th>0</th>\n",
       "      <td>1</td>\n",
       "      <td>0</td>\n",
       "      <td>3</td>\n",
       "      <td>Braund, Mr. Owen Harris</td>\n",
       "      <td>male</td>\n",
       "      <td>22.0</td>\n",
       "      <td>1</td>\n",
       "      <td>0</td>\n",
       "      <td>A/5 21171</td>\n",
       "      <td>7.2500</td>\n",
       "      <td>NaN</td>\n",
       "      <td>S</td>\n",
       "    </tr>\n",
       "    <tr>\n",
       "      <th>1</th>\n",
       "      <td>2</td>\n",
       "      <td>1</td>\n",
       "      <td>1</td>\n",
       "      <td>Cumings, Mrs. John Bradley (Florence Briggs Th...</td>\n",
       "      <td>female</td>\n",
       "      <td>38.0</td>\n",
       "      <td>1</td>\n",
       "      <td>0</td>\n",
       "      <td>PC 17599</td>\n",
       "      <td>71.2833</td>\n",
       "      <td>C85</td>\n",
       "      <td>C</td>\n",
       "    </tr>\n",
       "    <tr>\n",
       "      <th>2</th>\n",
       "      <td>3</td>\n",
       "      <td>1</td>\n",
       "      <td>3</td>\n",
       "      <td>Heikkinen, Miss. Laina</td>\n",
       "      <td>female</td>\n",
       "      <td>26.0</td>\n",
       "      <td>0</td>\n",
       "      <td>0</td>\n",
       "      <td>STON/O2. 3101282</td>\n",
       "      <td>7.9250</td>\n",
       "      <td>NaN</td>\n",
       "      <td>S</td>\n",
       "    </tr>\n",
       "    <tr>\n",
       "      <th>3</th>\n",
       "      <td>4</td>\n",
       "      <td>1</td>\n",
       "      <td>1</td>\n",
       "      <td>Futrelle, Mrs. Jacques Heath (Lily May Peel)</td>\n",
       "      <td>female</td>\n",
       "      <td>35.0</td>\n",
       "      <td>1</td>\n",
       "      <td>0</td>\n",
       "      <td>113803</td>\n",
       "      <td>53.1000</td>\n",
       "      <td>C123</td>\n",
       "      <td>S</td>\n",
       "    </tr>\n",
       "    <tr>\n",
       "      <th>4</th>\n",
       "      <td>5</td>\n",
       "      <td>0</td>\n",
       "      <td>3</td>\n",
       "      <td>Allen, Mr. William Henry</td>\n",
       "      <td>male</td>\n",
       "      <td>35.0</td>\n",
       "      <td>0</td>\n",
       "      <td>0</td>\n",
       "      <td>373450</td>\n",
       "      <td>8.0500</td>\n",
       "      <td>NaN</td>\n",
       "      <td>S</td>\n",
       "    </tr>\n",
       "  </tbody>\n",
       "</table>\n",
       "</div>"
      ],
      "text/plain": [
       "   PassengerId  Survived  Pclass  \\\n",
       "0            1         0       3   \n",
       "1            2         1       1   \n",
       "2            3         1       3   \n",
       "3            4         1       1   \n",
       "4            5         0       3   \n",
       "\n",
       "                                                Name     Sex   Age  SibSp  \\\n",
       "0                            Braund, Mr. Owen Harris    male  22.0      1   \n",
       "1  Cumings, Mrs. John Bradley (Florence Briggs Th...  female  38.0      1   \n",
       "2                             Heikkinen, Miss. Laina  female  26.0      0   \n",
       "3       Futrelle, Mrs. Jacques Heath (Lily May Peel)  female  35.0      1   \n",
       "4                           Allen, Mr. William Henry    male  35.0      0   \n",
       "\n",
       "   Parch            Ticket     Fare Cabin Embarked  \n",
       "0      0         A/5 21171   7.2500   NaN        S  \n",
       "1      0          PC 17599  71.2833   C85        C  \n",
       "2      0  STON/O2. 3101282   7.9250   NaN        S  \n",
       "3      0            113803  53.1000  C123        S  \n",
       "4      0            373450   8.0500   NaN        S  "
      ]
     },
     "execution_count": 3,
     "metadata": {},
     "output_type": "execute_result"
    }
   ],
   "source": [
    "#Having a peek at training data\n",
    "train.head()"
   ]
  },
  {
   "cell_type": "markdown",
   "metadata": {
    "_cell_guid": "a7cc4c29-60bb-4a9d-ac85-4c0725d989d5",
    "_uuid": "bfd060fd23a18e88f232ea5870ec26afc4f3b10e"
   },
   "source": [
    "We observe that we are given 11 features on the basis of which we want to predict whether a passenger survived or not.\n",
    "\n"
   ]
  },
  {
   "cell_type": "markdown",
   "metadata": {
    "_cell_guid": "9815e1b3-cac6-4c9f-8b64-8d1833ab25ab",
    "_uuid": "003946af2866ba6bb22c0c9ee6b57dba3d315ea1"
   },
   "source": [
    "### 3.1. Univariate Analysis "
   ]
  },
  {
   "cell_type": "markdown",
   "metadata": {
    "_cell_guid": "86325ecb-6b69-4d3f-8de7-27477bf929e6",
    "_uuid": "2f564229ebd60038d3d8dc5f08bd0675964f95a9"
   },
   "source": [
    "In this step, we look at each feature in isolation, try to understand its distribution. We also analyse potential role of a feature in predicting survival. This in turn will help us to engineer those features in such a way that they help in better prediction. Univariate analysis  is done separately for **continuous** and **categorical** variables.  So first step is to distinguish categorical variables from continuous ones."
   ]
  },
  {
   "cell_type": "markdown",
   "metadata": {
    "_cell_guid": "d93380da-57b9-4b8e-a340-b48d5bd6efe5",
    "_uuid": "ae82619d8d32c37e0b4ec88a643fe1af75e12235"
   },
   "source": [
    "### Variable Identification & Description: ###"
   ]
  },
  {
   "cell_type": "code",
   "execution_count": 4,
   "metadata": {
    "_cell_guid": "145e919d-07d3-442e-8b5d-112560e3a19e",
    "_uuid": "82904eccb5c4f9492fb38035ae72574f5d0e2173"
   },
   "outputs": [
    {
     "data": {
      "text/plain": [
       "Index(['PassengerId', 'Survived', 'Pclass', 'Name', 'Sex', 'Age', 'SibSp',\n",
       "       'Parch', 'Ticket', 'Fare', 'Cabin', 'Embarked'],\n",
       "      dtype='object')"
      ]
     },
     "execution_count": 4,
     "metadata": {},
     "output_type": "execute_result"
    }
   ],
   "source": [
    "train.columns"
   ]
  },
  {
   "cell_type": "markdown",
   "metadata": {
    "_cell_guid": "811d4709-e7af-4aab-a636-04a8fb5d4917",
    "_uuid": "1853b3e19e1f7aa42f0f217759af13302e72f9fa"
   },
   "source": [
    "1. **Passenger Id**: Continuous. Giving unique Id to each passenger.\n",
    "1. **Survived**: Nominal Categorical. Tells whether passenger survived or not. 0 = Not Survived  1 = Survived.\n",
    "1. **Pclass**: Ordinal Categorical. Indicator of Socio-Economic status of a passenger: Can take only 3 values i.e. 1,2 and 3. 1 = Upper 2 = Middle 3= Lower.\n",
    "1. **Name**: Nominal Categorical.\n",
    "1. **Sex**: Nominal Categorical.\n",
    "1. **Age**: Continuous. Can take any value within a certain range.\n",
    "1. **SibSp**: Discrete Numeric. Number of Siblings and Spouse of that passenger. It can be any whole number and can be treated as both continous as well as categorical depending on its range.\n",
    "1. **Parch**: Discrete Numeric. Number of parents and children of that passenger.\n",
    "1. **Ticket**: Ticket number of passenger.By taking a peek at data, we observe that ticket is alpahnumeric so it is of mixed type. We can draw more conclusions only by looking further at data.\n",
    "1. **Fare**: Continuous. Fare can be any value in a certain range.\n",
    "1. **Cabin**: Categorical.\n",
    "1. **Embarked**: Nominal Categorical. Tell us from where a passenger embarked the ship."
   ]
  },
  {
   "cell_type": "markdown",
   "metadata": {
    "_cell_guid": "efbcf4d9-9e7e-4192-91fa-dd8bbe7d3d7c",
    "_uuid": "09a2e8f7d5d75256dfea99e6f32f38b7fd79c753"
   },
   "source": [
    "### Continuous Variables###"
   ]
  },
  {
   "cell_type": "markdown",
   "metadata": {
    "_cell_guid": "7f119e47-fafd-40a7-a2a8-c303858847af",
    "_uuid": "968d91f673829b8ffe30c728c350dfbfafb99c12"
   },
   "source": [
    "#### PassengerId:<br>\n",
    "It is difficult to think of any scenario in which survival of a passenger depends on passenger Id. We can confirm this fact by bivariate analysis in later step. After that we can safely **drop this column** entirely. Let's check it's descriptive statistics."
   ]
  },
  {
   "cell_type": "code",
   "execution_count": 5,
   "metadata": {
    "_cell_guid": "5fa76aa4-de8d-4e63-a261-834d235c65aa",
    "_uuid": "30ab37de87dd8b220dfae5dd93dc01951ac80ae3"
   },
   "outputs": [
    {
     "data": {
      "text/plain": [
       "count    891.000000\n",
       "mean     446.000000\n",
       "std      257.353842\n",
       "min        1.000000\n",
       "25%      223.500000\n",
       "50%      446.000000\n",
       "75%      668.500000\n",
       "max      891.000000\n",
       "Name: PassengerId, dtype: float64"
      ]
     },
     "execution_count": 5,
     "metadata": {},
     "output_type": "execute_result"
    }
   ],
   "source": [
    "train['PassengerId'].describe()"
   ]
  },
  {
   "cell_type": "markdown",
   "metadata": {
    "_cell_guid": "285b40b3-6b7b-4fef-8638-c8b4e59c3c8c",
    "_uuid": "7b6ffbde7c1d489808f93449f2f6c0d4daef7a57"
   },
   "source": [
    "We observe there are total 891 observations. This will help us in checking whether any other feature has any missing value."
   ]
  },
  {
   "cell_type": "markdown",
   "metadata": {
    "_cell_guid": "15a4531a-00f0-4695-b571-a9fb15365657",
    "_uuid": "3d9c9f0f0a75d2ea6e8b15b6c30363f8b3fb3ce9"
   },
   "source": [
    "**Age**: <br>"
   ]
  },
  {
   "cell_type": "code",
   "execution_count": 6,
   "metadata": {
    "_cell_guid": "46aae132-58e7-4bc3-b1f8-f35eaaa617dc",
    "_uuid": "680f4750b367aa177e0232355599d8d0c879dd41"
   },
   "outputs": [
    {
     "data": {
      "text/plain": [
       "count    714.000000\n",
       "mean      29.699118\n",
       "std       14.526497\n",
       "min        0.420000\n",
       "25%       20.125000\n",
       "50%       28.000000\n",
       "75%       38.000000\n",
       "max       80.000000\n",
       "Name: Age, dtype: float64"
      ]
     },
     "execution_count": 6,
     "metadata": {},
     "output_type": "execute_result"
    }
   ],
   "source": [
    "train['Age'].describe()"
   ]
  },
  {
   "cell_type": "markdown",
   "metadata": {
    "_cell_guid": "5103a153-c628-4fa9-8353-f6dafd26d13d",
    "_uuid": "2d7392f57c302f490c81ee56c60b2da752659dcd"
   },
   "source": [
    "**Observations:**\n",
    "1.  Count is 714 which is less than 891, thus there are some **missing values** which will be treated later.\n",
    "1. Min. and max. tells there were people from all age groups : starting from infants(less than 1 year old) to old age people(80 yrs).\n",
    "1.  Quarterlies show that most of the passengers were relatively young. (75% were less than 38 years).\n",
    "Lets visually observe distribution of passengers age via **histogram ** and **kernel density plot**."
   ]
  },
  {
   "cell_type": "code",
   "execution_count": 7,
   "metadata": {
    "_cell_guid": "d12dbce4-da51-4972-8ffb-f574cdc5b0f3",
    "_uuid": "cf24ac50df3a2b90ee593564b08f0670f0933388"
   },
   "outputs": [
    {
     "data": {
      "text/plain": [
       "Text(0,0.5,'Count')"
      ]
     },
     "execution_count": 7,
     "metadata": {},
     "output_type": "execute_result"
    },
    {
     "data": {
      "image/png": "[encoded data removed]",
      "text/plain": [
       "<matplotlib.figure.Figure at 0x10fa05a90>"
      ]
     },
     "metadata": {},
     "output_type": "display_data"
    }
   ],
   "source": [
    "#Histogram for Age distribution\n",
    "train['Age'].hist(bins =30,grid = False)\n",
    "plt.xlabel('Age',fontsize =12)\n",
    "plt.ylabel('Count',fontsize =12)"
   ]
  },
  {
   "cell_type": "code",
   "execution_count": 8,
   "metadata": {
    "_cell_guid": "d137e0d7-f313-4d8e-8585-085623b7b321",
    "_uuid": "bb66475fa7dfee3d84ffdc6e2d43dd109f3eef92"
   },
   "outputs": [
    {
     "data": {
      "text/plain": [
       "Text(0,0.5,'Density')"
      ]
     },
     "execution_count": 8,
     "metadata": {},
     "output_type": "execute_result"
    },
    {
     "data": {
      "image/png": "[encoded data removed]",
      "text/plain": [
       "<matplotlib.figure.Figure at 0x1a18cd54a8>"
      ]
     },
     "metadata": {},
     "output_type": "display_data"
    }
   ],
   "source": [
    "#KernelDensityPlot\n",
    "sns.kdeplot(train['Age'],shade = True)\n",
    "plt.xlabel('Age',fontsize=12)\n",
    "plt.ylabel('Density',fontsize=12)"
   ]
  },
  {
   "cell_type": "markdown",
   "metadata": {
    "_cell_guid": "21cdc552-c567-402c-8d29-7b805608adf2",
    "_uuid": "f9f0784fe94b4aba544786cfc19d2d1911e41d72"
   },
   "source": [
    "From above visualisations, we observe that distribution is close to normal but with few exceptions:\n",
    "1. There is a slight bulge in 0-15 years group which shows number of passengers in age group 0-10 are unusally higher than in age group 10-13.\n",
    "1. It is slightly skewed towards right. Distribution can be normalised by **log transform** or **boxcox transform**."
   ]
  },
  {
   "cell_type": "markdown",
   "metadata": {},
   "source": [
    "** Fare: **"
   ]
  },
  {
   "cell_type": "code",
   "execution_count": 9,
   "metadata": {},
   "outputs": [
    {
     "data": {
      "text/plain": [
       "count    891.000000\n",
       "mean      32.204208\n",
       "std       49.693429\n",
       "min        0.000000\n",
       "25%        7.910400\n",
       "50%       14.454200\n",
       "75%       31.000000\n",
       "max      512.329200\n",
       "Name: Fare, dtype: float64"
      ]
     },
     "execution_count": 9,
     "metadata": {},
     "output_type": "execute_result"
    }
   ],
   "source": [
    "train['Fare'].describe()"
   ]
  },
  {
   "cell_type": "markdown",
   "metadata": {},
   "source": [
    "** Observations: **<br>\n",
    "1. Minimum Fare is 0. This might be the case for crew members or might be an error.\n",
    "1. There are no missing values.\n",
    "1. Fare of 75% passengers is below 31 but still we have maximum value of $512 which shows presence of outliers. Outliers become more visible in boxplot."
   ]
  },
  {
   "cell_type": "code",
   "execution_count": 10,
   "metadata": {},
   "outputs": [
    {
     "data": {
      "text/plain": [
       "<matplotlib.axes._subplots.AxesSubplot at 0x110afc6a0>"
      ]
     },
     "execution_count": 10,
     "metadata": {},
     "output_type": "execute_result"
    },
    {
     "data": {
      "image/png": "[encoded data removed]",
      "text/plain": [
       "<matplotlib.figure.Figure at 0x110b25ba8>"
      ]
     },
     "metadata": {},
     "output_type": "display_data"
    }
   ],
   "source": [
    "sns.boxplot(train['Fare'],orient ='v')"
   ]
  },
  {
   "cell_type": "markdown",
   "metadata": {},
   "source": [
    "Presence of datapoints above whiskers show presence of outliers which will be treated later."
   ]
  },
  {
   "cell_type": "code",
   "execution_count": 11,
   "metadata": {},
   "outputs": [
    {
     "data": {
      "text/plain": [
       "Text(0,0.5,'Density')"
      ]
     },
     "execution_count": 11,
     "metadata": {},
     "output_type": "execute_result"
    },
    {
     "data": {
      "image/png": "[encoded data removed]",
      "text/plain": [
       "<matplotlib.figure.Figure at 0x1a2057ac18>"
      ]
     },
     "metadata": {},
     "output_type": "display_data"
    }
   ],
   "source": [
    "sns.kdeplot(train['Fare'],shade = True)\n",
    "plt.xlabel('Fare',fontsize=12)\n",
    "plt.ylabel('Density',fontsize=12)"
   ]
  },
  {
   "cell_type": "markdown",
   "metadata": {},
   "source": [
    "Presence of outliers made distribution skewed towards right. However outliers in this case maybe natural because some passengers might have paid very high fare to get ultra luxury treatment."
   ]
  },
  {
   "cell_type": "markdown",
   "metadata": {},
   "source": [
    "### Categorical Variables"
   ]
  },
  {
   "cell_type": "markdown",
   "metadata": {},
   "source": [
    "** Survived: **"
   ]
  },
  {
   "cell_type": "code",
   "execution_count": 12,
   "metadata": {},
   "outputs": [
    {
     "data": {
      "text/plain": [
       "0    549\n",
       "1    342\n",
       "Name: Survived, dtype: int64"
      ]
     },
     "execution_count": 12,
     "metadata": {},
     "output_type": "execute_result"
    }
   ],
   "source": [
    "#Count for each unique value\n",
    "train['Survived'].value_counts()"
   ]
  },
  {
   "cell_type": "code",
   "execution_count": 13,
   "metadata": {},
   "outputs": [
    {
     "data": {
      "text/plain": [
       "0    61.616162\n",
       "1    38.383838\n",
       "Name: Survived, dtype: float64"
      ]
     },
     "execution_count": 13,
     "metadata": {},
     "output_type": "execute_result"
    }
   ],
   "source": [
    "#Count % for each unique value\n",
    "train['Survived'].value_counts(normalize = True)*100"
   ]
  },
  {
   "cell_type": "code",
   "execution_count": 14,
   "metadata": {},
   "outputs": [
    {
     "data": {
      "text/plain": [
       "<matplotlib.axes._subplots.AxesSubplot at 0x1a20525a90>"
      ]
     },
     "execution_count": 14,
     "metadata": {},
     "output_type": "execute_result"
    },
    {
     "data": {
      "image/png": "[encoded data removed]",
      "text/plain": [
       "<matplotlib.figure.Figure at 0x110b07a90>"
      ]
     },
     "metadata": {},
     "output_type": "display_data"
    }
   ],
   "source": [
    "sns.countplot(x ='Survived',data = train)"
   ]
  },
  {
   "cell_type": "markdown",
   "metadata": {},
   "source": [
    "This data is close to original fact that around 65% people died in Titanic disaster."
   ]
  },
  {
   "cell_type": "markdown",
   "metadata": {},
   "source": [
    "** Pclass: **"
   ]
  },
  {
   "cell_type": "code",
   "execution_count": 15,
   "metadata": {},
   "outputs": [
    {
     "data": {
      "text/plain": [
       "1    216\n",
       "2    184\n",
       "3    491\n",
       "Name: Pclass, dtype: int64"
      ]
     },
     "execution_count": 15,
     "metadata": {},
     "output_type": "execute_result"
    }
   ],
   "source": [
    "#Count for each unique value\n",
    "train['Pclass'].value_counts(sort = False)"
   ]
  },
  {
   "cell_type": "code",
   "execution_count": 16,
   "metadata": {},
   "outputs": [
    {
     "data": {
      "text/plain": [
       "1    24.242424\n",
       "2    20.650954\n",
       "3    55.106622\n",
       "Name: Pclass, dtype: float64"
      ]
     },
     "execution_count": 16,
     "metadata": {},
     "output_type": "execute_result"
    }
   ],
   "source": [
    "#Count % for each unique value\n",
    "train['Pclass'].value_counts(normalize = True,sort = False)*100"
   ]
  },
  {
   "cell_type": "code",
   "execution_count": 17,
   "metadata": {},
   "outputs": [
    {
     "data": {
      "text/plain": [
       "<matplotlib.axes._subplots.AxesSubplot at 0x1a206fcfd0>"
      ]
     },
     "execution_count": 17,
     "metadata": {},
     "output_type": "execute_result"
    },
    {
     "data": {
      "image/png": "[encoded data removed]",
      "text/plain": [
       "<matplotlib.figure.Figure at 0x1a2078f278>"
      ]
     },
     "metadata": {},
     "output_type": "display_data"
    }
   ],
   "source": [
    "sns.countplot(x ='Pclass',data = train)"
   ]
  },
  {
   "cell_type": "markdown",
   "metadata": {},
   "source": [
    "Most of the passengers( around 55%) were from lower class and maybe most of them died, which we will confirm in multivariate analysis."
   ]
  },
  {
   "cell_type": "markdown",
   "metadata": {},
   "source": [
    "** Name: **<br>\n",
    "Name can't be analysed like other categorical variables above. To get some information out of it, lets observe the data.\n"
   ]
  },
  {
   "cell_type": "code",
   "execution_count": 18,
   "metadata": {},
   "outputs": [
    {
     "data": {
      "text/plain": [
       "0                                Braund, Mr. Owen Harris\n",
       "1      Cumings, Mrs. John Bradley (Florence Briggs Th...\n",
       "2                                 Heikkinen, Miss. Laina\n",
       "3           Futrelle, Mrs. Jacques Heath (Lily May Peel)\n",
       "4                               Allen, Mr. William Henry\n",
       "5                                       Moran, Mr. James\n",
       "6                                McCarthy, Mr. Timothy J\n",
       "7                         Palsson, Master. Gosta Leonard\n",
       "8      Johnson, Mrs. Oscar W (Elisabeth Vilhelmina Berg)\n",
       "9                    Nasser, Mrs. Nicholas (Adele Achem)\n",
       "10                       Sandstrom, Miss. Marguerite Rut\n",
       "11                              Bonnell, Miss. Elizabeth\n",
       "12                        Saundercock, Mr. William Henry\n",
       "13                           Andersson, Mr. Anders Johan\n",
       "14                  Vestrom, Miss. Hulda Amanda Adolfina\n",
       "15                      Hewlett, Mrs. (Mary D Kingcome) \n",
       "16                                  Rice, Master. Eugene\n",
       "17                          Williams, Mr. Charles Eugene\n",
       "18     Vander Planke, Mrs. Julius (Emelia Maria Vande...\n",
       "19                               Masselmani, Mrs. Fatima\n",
       "20                                  Fynney, Mr. Joseph J\n",
       "21                                 Beesley, Mr. Lawrence\n",
       "22                           McGowan, Miss. Anna \"Annie\"\n",
       "23                          Sloper, Mr. William Thompson\n",
       "24                         Palsson, Miss. Torborg Danira\n",
       "25     Asplund, Mrs. Carl Oscar (Selma Augusta Emilia...\n",
       "26                               Emir, Mr. Farred Chehab\n",
       "27                        Fortune, Mr. Charles Alexander\n",
       "28                         O'Dwyer, Miss. Ellen \"Nellie\"\n",
       "29                                   Todoroff, Mr. Lalio\n",
       "                             ...                        \n",
       "861                          Giles, Mr. Frederick Edward\n",
       "862    Swift, Mrs. Frederick Joel (Margaret Welles Ba...\n",
       "863                    Sage, Miss. Dorothy Edith \"Dolly\"\n",
       "864                               Gill, Mr. John William\n",
       "865                             Bystrom, Mrs. (Karolina)\n",
       "866                         Duran y More, Miss. Asuncion\n",
       "867                 Roebling, Mr. Washington Augustus II\n",
       "868                          van Melkebeke, Mr. Philemon\n",
       "869                      Johnson, Master. Harold Theodor\n",
       "870                                    Balkic, Mr. Cerin\n",
       "871     Beckwith, Mrs. Richard Leonard (Sallie Monypeny)\n",
       "872                             Carlsson, Mr. Frans Olof\n",
       "873                          Vander Cruyssen, Mr. Victor\n",
       "874                Abelson, Mrs. Samuel (Hannah Wizosky)\n",
       "875                     Najib, Miss. Adele Kiamie \"Jane\"\n",
       "876                        Gustafsson, Mr. Alfred Ossian\n",
       "877                                 Petroff, Mr. Nedelio\n",
       "878                                   Laleff, Mr. Kristo\n",
       "879        Potter, Mrs. Thomas Jr (Lily Alexenia Wilson)\n",
       "880         Shelley, Mrs. William (Imanita Parrish Hall)\n",
       "881                                   Markun, Mr. Johann\n",
       "882                         Dahlberg, Miss. Gerda Ulrika\n",
       "883                        Banfield, Mr. Frederick James\n",
       "884                               Sutehall, Mr. Henry Jr\n",
       "885                 Rice, Mrs. William (Margaret Norton)\n",
       "886                                Montvila, Rev. Juozas\n",
       "887                         Graham, Miss. Margaret Edith\n",
       "888             Johnston, Miss. Catherine Helen \"Carrie\"\n",
       "889                                Behr, Mr. Karl Howell\n",
       "890                                  Dooley, Mr. Patrick\n",
       "Name: Name, Length: 891, dtype: object"
      ]
     },
     "execution_count": 18,
     "metadata": {},
     "output_type": "execute_result"
    }
   ],
   "source": [
    "train['Name']"
   ]
  },
  {
   "cell_type": "markdown",
   "metadata": {},
   "source": [
    "We observe that each name contains a **Title**(Mr,Miss,Mrs,etc) which can give us some information about gender and age of person. Though we already have Age and sex features separately but extracting Titles from Name can help us in filling missing age values more appropriately. We will do so in feature engineering step and then analyse those titles."
   ]
  },
  {
   "cell_type": "markdown",
   "metadata": {},
   "source": [
    "** Sex:**<br>"
   ]
  },
  {
   "cell_type": "code",
   "execution_count": 19,
   "metadata": {},
   "outputs": [
    {
     "data": {
      "text/plain": [
       "male      577\n",
       "female    314\n",
       "Name: Sex, dtype: int64"
      ]
     },
     "execution_count": 19,
     "metadata": {},
     "output_type": "execute_result"
    }
   ],
   "source": [
    "#Count for each unique value\n",
    "train['Sex'].value_counts()"
   ]
  },
  {
   "cell_type": "code",
   "execution_count": 20,
   "metadata": {},
   "outputs": [
    {
     "data": {
      "text/plain": [
       "female    35.241302\n",
       "male      64.758698\n",
       "Name: Sex, dtype: float64"
      ]
     },
     "execution_count": 20,
     "metadata": {},
     "output_type": "execute_result"
    }
   ],
   "source": [
    "#Count % for each unique value\n",
    "train['Sex'].value_counts(normalize = True,sort = False)*100"
   ]
  },
  {
   "cell_type": "code",
   "execution_count": 21,
   "metadata": {},
   "outputs": [
    {
     "data": {
      "text/plain": [
       "<matplotlib.axes._subplots.AxesSubplot at 0x1a207150f0>"
      ]
     },
     "execution_count": 21,
     "metadata": {},
     "output_type": "execute_result"
    },
    {
     "data": {
      "image/png": "[encoded data removed]",
      "text/plain": [
       "<matplotlib.figure.Figure at 0x110b25e80>"
      ]
     },
     "metadata": {},
     "output_type": "display_data"
    }
   ],
   "source": [
    "sns.countplot(x ='Sex',data = train)"
   ]
  },
  {
   "cell_type": "markdown",
   "metadata": {},
   "source": [
    "**Observation:** There were more male than female passengers."
   ]
  },
  {
   "cell_type": "markdown",
   "metadata": {},
   "source": [
    "**SibSp** & **Parch**:"
   ]
  },
  {
   "cell_type": "code",
   "execution_count": 22,
   "metadata": {},
   "outputs": [
    {
     "data": {
      "text/plain": [
       "0    608\n",
       "1    209\n",
       "2     28\n",
       "3     16\n",
       "4     18\n",
       "5      5\n",
       "8      7\n",
       "Name: SibSp, dtype: int64"
      ]
     },
     "execution_count": 22,
     "metadata": {},
     "output_type": "execute_result"
    }
   ],
   "source": [
    "#Count for each unique value\n",
    "train['SibSp'].value_counts(sort = False)"
   ]
  },
  {
   "cell_type": "code",
   "execution_count": 23,
   "metadata": {},
   "outputs": [
    {
     "data": {
      "text/plain": [
       "0    68.237935\n",
       "1    23.456790\n",
       "2     3.142536\n",
       "3     1.795735\n",
       "4     2.020202\n",
       "5     0.561167\n",
       "8     0.785634\n",
       "Name: SibSp, dtype: float64"
      ]
     },
     "execution_count": 23,
     "metadata": {},
     "output_type": "execute_result"
    }
   ],
   "source": [
    "#Count% for each unique value\n",
    "train['SibSp'].value_counts(normalize = True, sort = False)*100"
   ]
  },
  {
   "cell_type": "code",
   "execution_count": 24,
   "metadata": {},
   "outputs": [
    {
     "data": {
      "text/plain": [
       "0    678\n",
       "1    118\n",
       "2     80\n",
       "3      5\n",
       "4      4\n",
       "5      5\n",
       "6      1\n",
       "Name: Parch, dtype: int64"
      ]
     },
     "execution_count": 24,
     "metadata": {},
     "output_type": "execute_result"
    }
   ],
   "source": [
    "#Count for each unique value\n",
    "train['Parch'].value_counts(sort = False)"
   ]
  },
  {
   "cell_type": "code",
   "execution_count": 25,
   "metadata": {},
   "outputs": [
    {
     "data": {
      "text/plain": [
       "0    76.094276\n",
       "1    13.243547\n",
       "2     8.978676\n",
       "3     0.561167\n",
       "4     0.448934\n",
       "5     0.561167\n",
       "6     0.112233\n",
       "Name: Parch, dtype: float64"
      ]
     },
     "execution_count": 25,
     "metadata": {},
     "output_type": "execute_result"
    }
   ],
   "source": [
    "#Count% for each unique value\n",
    "train['Parch'].value_counts(normalize = True,sort = False)*100"
   ]
  },
  {
   "cell_type": "code",
   "execution_count": 26,
   "metadata": {},
   "outputs": [
    {
     "data": {
      "text/plain": [
       "<matplotlib.axes._subplots.AxesSubplot at 0x1a208337b8>"
      ]
     },
     "execution_count": 26,
     "metadata": {},
     "output_type": "execute_result"
    },
    {
     "data": {
      "image/png": "[encoded data removed]",
      "text/plain": [
       "<matplotlib.figure.Figure at 0x1a20829940>"
      ]
     },
     "metadata": {},
     "output_type": "display_data"
    }
   ],
   "source": [
    "sns.countplot(x ='SibSp',data = train)"
   ]
  },
  {
   "cell_type": "code",
   "execution_count": 27,
   "metadata": {},
   "outputs": [
    {
     "data": {
      "text/plain": [
       "<matplotlib.axes._subplots.AxesSubplot at 0x1a20a30dd8>"
      ]
     },
     "execution_count": 27,
     "metadata": {},
     "output_type": "execute_result"
    },
    {
     "data": {
      "image/png": "[encoded data removed]",
      "text/plain": [
       "<matplotlib.figure.Figure at 0x110b25710>"
      ]
     },
     "metadata": {},
     "output_type": "display_data"
    }
   ],
   "source": [
    "sns.countplot(x ='Parch',data = train)"
   ]
  },
  {
   "cell_type": "markdown",
   "metadata": {},
   "source": [
    "**Observation:** We observe that majority of passengers are travelling alone. Moreover, there are very few passengers with more than 2 siblings or more than 3 parents/children. Thus they can be treated as outliers or can be **binned together** in a separate category. Moreover survival of a passenger won't depend much on whether he/she was with spouse, sibling, parent or children. They are all part of family. So we can combine both features of 'SibSp' and 'Parch' into a **new feature** of **'Number of family members'** which might help make better prediction. \n",
    "Also, since most of the passengers are travelling alone so in addition to a feature of 'number of family members'we  might add another feature which only answers whether he is travelling alone or not. "
   ]
  },
  {
   "cell_type": "markdown",
   "metadata": {},
   "source": [
    "**Embarked:**<br>"
   ]
  },
  {
   "cell_type": "code",
   "execution_count": 28,
   "metadata": {},
   "outputs": [
    {
     "data": {
      "text/plain": [
       "889"
      ]
     },
     "execution_count": 28,
     "metadata": {},
     "output_type": "execute_result"
    }
   ],
   "source": [
    "train['Embarked'].count()"
   ]
  },
  {
   "cell_type": "code",
   "execution_count": 29,
   "metadata": {},
   "outputs": [
    {
     "data": {
      "text/plain": [
       "S    72.440945\n",
       "C    18.897638\n",
       "Q     8.661417\n",
       "Name: Embarked, dtype: float64"
      ]
     },
     "execution_count": 29,
     "metadata": {},
     "output_type": "execute_result"
    }
   ],
   "source": [
    "train['Embarked'].value_counts(normalize = True)*100"
   ]
  },
  {
   "cell_type": "code",
   "execution_count": 30,
   "metadata": {},
   "outputs": [
    {
     "data": {
      "text/plain": [
       "<matplotlib.axes._subplots.AxesSubplot at 0x1a20b0bc18>"
      ]
     },
     "execution_count": 30,
     "metadata": {},
     "output_type": "execute_result"
    },
    {
     "data": {
      "image/png": "[encoded data removed]",
      "text/plain": [
       "<matplotlib.figure.Figure at 0x1a209c9198>"
      ]
     },
     "metadata": {},
     "output_type": "display_data"
    }
   ],
   "source": [
    "sns.countplot(x ='Embarked',data = train)"
   ]
  },
  {
   "cell_type": "markdown",
   "metadata": {},
   "source": [
    "**Observations:** <br>\n",
    "1. There are 2 missing values.\n",
    "1. Majority of passengers embarked from Southampton station.\n",
    "1. Though survival of a passenger might not directly depend on station from which he/she embarked ship but his/her socio-economic status might be related to that which in turn might affect his/her survival. We will study relation between Embarked and PClass in multivariate analysis."
   ]
  },
  {
   "cell_type": "markdown",
   "metadata": {},
   "source": [
    "**Cabin:**<br>\n",
    "Before analysing Cabin, we have to look at its values to understand it."
   ]
  },
  {
   "cell_type": "code",
   "execution_count": 31,
   "metadata": {},
   "outputs": [
    {
     "data": {
      "text/plain": [
       "0              NaN\n",
       "1              C85\n",
       "2              NaN\n",
       "3             C123\n",
       "4              NaN\n",
       "5              NaN\n",
       "6              E46\n",
       "7              NaN\n",
       "8              NaN\n",
       "9              NaN\n",
       "10              G6\n",
       "11            C103\n",
       "12             NaN\n",
       "13             NaN\n",
       "14             NaN\n",
       "15             NaN\n",
       "16             NaN\n",
       "17             NaN\n",
       "18             NaN\n",
       "19             NaN\n",
       "20             NaN\n",
       "21             D56\n",
       "22             NaN\n",
       "23              A6\n",
       "24             NaN\n",
       "25             NaN\n",
       "26             NaN\n",
       "27     C23 C25 C27\n",
       "28             NaN\n",
       "29             NaN\n",
       "          ...     \n",
       "861            NaN\n",
       "862            D17\n",
       "863            NaN\n",
       "864            NaN\n",
       "865            NaN\n",
       "866            NaN\n",
       "867            A24\n",
       "868            NaN\n",
       "869            NaN\n",
       "870            NaN\n",
       "871            D35\n",
       "872    B51 B53 B55\n",
       "873            NaN\n",
       "874            NaN\n",
       "875            NaN\n",
       "876            NaN\n",
       "877            NaN\n",
       "878            NaN\n",
       "879            C50\n",
       "880            NaN\n",
       "881            NaN\n",
       "882            NaN\n",
       "883            NaN\n",
       "884            NaN\n",
       "885            NaN\n",
       "886            NaN\n",
       "887            B42\n",
       "888            NaN\n",
       "889           C148\n",
       "890            NaN\n",
       "Name: Cabin, Length: 891, dtype: object"
      ]
     },
     "execution_count": 31,
     "metadata": {},
     "output_type": "execute_result"
    }
   ],
   "source": [
    "train['Cabin']"
   ]
  },
  {
   "cell_type": "code",
   "execution_count": 32,
   "metadata": {},
   "outputs": [
    {
     "data": {
      "text/plain": [
       "count     204\n",
       "unique    147\n",
       "top        G6\n",
       "freq        4\n",
       "Name: Cabin, dtype: object"
      ]
     },
     "execution_count": 32,
     "metadata": {},
     "output_type": "execute_result"
    }
   ],
   "source": [
    "train['Cabin'].describe()"
   ]
  },
  {
   "cell_type": "markdown",
   "metadata": {},
   "source": [
    "**Observations:**<br>\n",
    "1. A lot of values are missing.\n",
    "2. Some people have more than one cabin.\n",
    "3. Each cabin is alphanumeric with a single alphabet followed by numbers. So one of the way to use it is by extracting alphabet from each cabin number. This alphabet denotes the deck and its the location of deck that determines survival."
   ]
  },
  {
   "cell_type": "markdown",
   "metadata": {},
   "source": [
    "**Ticket: **<br>\n",
    "Before analysing Ticket, we have to look at its values to understand it."
   ]
  },
  {
   "cell_type": "code",
   "execution_count": 33,
   "metadata": {},
   "outputs": [
    {
     "data": {
      "text/plain": [
       "0             A/5 21171\n",
       "1              PC 17599\n",
       "2      STON/O2. 3101282\n",
       "3                113803\n",
       "4                373450\n",
       "5                330877\n",
       "6                 17463\n",
       "7                349909\n",
       "8                347742\n",
       "9                237736\n",
       "10              PP 9549\n",
       "11               113783\n",
       "12            A/5. 2151\n",
       "13               347082\n",
       "14               350406\n",
       "15               248706\n",
       "16               382652\n",
       "17               244373\n",
       "18               345763\n",
       "19                 2649\n",
       "20               239865\n",
       "21               248698\n",
       "22               330923\n",
       "23               113788\n",
       "24               349909\n",
       "25               347077\n",
       "26                 2631\n",
       "27                19950\n",
       "28               330959\n",
       "29               349216\n",
       "             ...       \n",
       "861               28134\n",
       "862               17466\n",
       "863            CA. 2343\n",
       "864              233866\n",
       "865              236852\n",
       "866       SC/PARIS 2149\n",
       "867            PC 17590\n",
       "868              345777\n",
       "869              347742\n",
       "870              349248\n",
       "871               11751\n",
       "872                 695\n",
       "873              345765\n",
       "874           P/PP 3381\n",
       "875                2667\n",
       "876                7534\n",
       "877              349212\n",
       "878              349217\n",
       "879               11767\n",
       "880              230433\n",
       "881              349257\n",
       "882                7552\n",
       "883    C.A./SOTON 34068\n",
       "884     SOTON/OQ 392076\n",
       "885              382652\n",
       "886              211536\n",
       "887              112053\n",
       "888          W./C. 6607\n",
       "889              111369\n",
       "890              370376\n",
       "Name: Ticket, Length: 891, dtype: object"
      ]
     },
     "execution_count": 33,
     "metadata": {},
     "output_type": "execute_result"
    }
   ],
   "source": [
    "train['Ticket']"
   ]
  },
  {
   "cell_type": "code",
   "execution_count": 34,
   "metadata": {},
   "outputs": [
    {
     "data": {
      "text/plain": [
       "count      891\n",
       "unique     681\n",
       "top       1601\n",
       "freq         7\n",
       "Name: Ticket, dtype: object"
      ]
     },
     "execution_count": 34,
     "metadata": {},
     "output_type": "execute_result"
    }
   ],
   "source": [
    "train['Ticket'].describe()"
   ]
  },
  {
   "cell_type": "code",
   "execution_count": 35,
   "metadata": {},
   "outputs": [
    {
     "data": {
      "text/html": [
       "<div>\n",
       "<style>\n",
       "    .dataframe thead tr:only-child th {\n",
       "        text-align: right;\n",
       "    }\n",
       "\n",
       "    .dataframe thead th {\n",
       "        text-align: left;\n",
       "    }\n",
       "\n",
       "    .dataframe tbody tr th {\n",
       "        vertical-align: top;\n",
       "    }\n",
       "</style>\n",
       "<table border=\"1\" class=\"dataframe\">\n",
       "  <thead>\n",
       "    <tr style=\"text-align: right;\">\n",
       "      <th></th>\n",
       "      <th>PassengerId</th>\n",
       "      <th>Survived</th>\n",
       "      <th>Pclass</th>\n",
       "      <th>Name</th>\n",
       "      <th>Sex</th>\n",
       "      <th>Age</th>\n",
       "      <th>SibSp</th>\n",
       "      <th>Parch</th>\n",
       "      <th>Ticket</th>\n",
       "      <th>Fare</th>\n",
       "      <th>Cabin</th>\n",
       "      <th>Embarked</th>\n",
       "    </tr>\n",
       "  </thead>\n",
       "  <tbody>\n",
       "    <tr>\n",
       "      <th>13</th>\n",
       "      <td>14</td>\n",
       "      <td>0</td>\n",
       "      <td>3</td>\n",
       "      <td>Andersson, Mr. Anders Johan</td>\n",
       "      <td>male</td>\n",
       "      <td>39.0</td>\n",
       "      <td>1</td>\n",
       "      <td>5</td>\n",
       "      <td>347082</td>\n",
       "      <td>31.275</td>\n",
       "      <td>NaN</td>\n",
       "      <td>S</td>\n",
       "    </tr>\n",
       "    <tr>\n",
       "      <th>119</th>\n",
       "      <td>120</td>\n",
       "      <td>0</td>\n",
       "      <td>3</td>\n",
       "      <td>Andersson, Miss. Ellis Anna Maria</td>\n",
       "      <td>female</td>\n",
       "      <td>2.0</td>\n",
       "      <td>4</td>\n",
       "      <td>2</td>\n",
       "      <td>347082</td>\n",
       "      <td>31.275</td>\n",
       "      <td>NaN</td>\n",
       "      <td>S</td>\n",
       "    </tr>\n",
       "    <tr>\n",
       "      <th>541</th>\n",
       "      <td>542</td>\n",
       "      <td>0</td>\n",
       "      <td>3</td>\n",
       "      <td>Andersson, Miss. Ingeborg Constanzia</td>\n",
       "      <td>female</td>\n",
       "      <td>9.0</td>\n",
       "      <td>4</td>\n",
       "      <td>2</td>\n",
       "      <td>347082</td>\n",
       "      <td>31.275</td>\n",
       "      <td>NaN</td>\n",
       "      <td>S</td>\n",
       "    </tr>\n",
       "    <tr>\n",
       "      <th>542</th>\n",
       "      <td>543</td>\n",
       "      <td>0</td>\n",
       "      <td>3</td>\n",
       "      <td>Andersson, Miss. Sigrid Elisabeth</td>\n",
       "      <td>female</td>\n",
       "      <td>11.0</td>\n",
       "      <td>4</td>\n",
       "      <td>2</td>\n",
       "      <td>347082</td>\n",
       "      <td>31.275</td>\n",
       "      <td>NaN</td>\n",
       "      <td>S</td>\n",
       "    </tr>\n",
       "    <tr>\n",
       "      <th>610</th>\n",
       "      <td>611</td>\n",
       "      <td>0</td>\n",
       "      <td>3</td>\n",
       "      <td>Andersson, Mrs. Anders Johan (Alfrida Konstant...</td>\n",
       "      <td>female</td>\n",
       "      <td>39.0</td>\n",
       "      <td>1</td>\n",
       "      <td>5</td>\n",
       "      <td>347082</td>\n",
       "      <td>31.275</td>\n",
       "      <td>NaN</td>\n",
       "      <td>S</td>\n",
       "    </tr>\n",
       "    <tr>\n",
       "      <th>813</th>\n",
       "      <td>814</td>\n",
       "      <td>0</td>\n",
       "      <td>3</td>\n",
       "      <td>Andersson, Miss. Ebba Iris Alfrida</td>\n",
       "      <td>female</td>\n",
       "      <td>6.0</td>\n",
       "      <td>4</td>\n",
       "      <td>2</td>\n",
       "      <td>347082</td>\n",
       "      <td>31.275</td>\n",
       "      <td>NaN</td>\n",
       "      <td>S</td>\n",
       "    </tr>\n",
       "    <tr>\n",
       "      <th>850</th>\n",
       "      <td>851</td>\n",
       "      <td>0</td>\n",
       "      <td>3</td>\n",
       "      <td>Andersson, Master. Sigvard Harald Elias</td>\n",
       "      <td>male</td>\n",
       "      <td>4.0</td>\n",
       "      <td>4</td>\n",
       "      <td>2</td>\n",
       "      <td>347082</td>\n",
       "      <td>31.275</td>\n",
       "      <td>NaN</td>\n",
       "      <td>S</td>\n",
       "    </tr>\n",
       "  </tbody>\n",
       "</table>\n",
       "</div>"
      ],
      "text/plain": [
       "     PassengerId  Survived  Pclass  \\\n",
       "13            14         0       3   \n",
       "119          120         0       3   \n",
       "541          542         0       3   \n",
       "542          543         0       3   \n",
       "610          611         0       3   \n",
       "813          814         0       3   \n",
       "850          851         0       3   \n",
       "\n",
       "                                                  Name     Sex   Age  SibSp  \\\n",
       "13                         Andersson, Mr. Anders Johan    male  39.0      1   \n",
       "119                  Andersson, Miss. Ellis Anna Maria  female   2.0      4   \n",
       "541               Andersson, Miss. Ingeborg Constanzia  female   9.0      4   \n",
       "542                  Andersson, Miss. Sigrid Elisabeth  female  11.0      4   \n",
       "610  Andersson, Mrs. Anders Johan (Alfrida Konstant...  female  39.0      1   \n",
       "813                 Andersson, Miss. Ebba Iris Alfrida  female   6.0      4   \n",
       "850            Andersson, Master. Sigvard Harald Elias    male   4.0      4   \n",
       "\n",
       "     Parch  Ticket    Fare Cabin Embarked  \n",
       "13       5  347082  31.275   NaN        S  \n",
       "119      2  347082  31.275   NaN        S  \n",
       "541      2  347082  31.275   NaN        S  \n",
       "542      2  347082  31.275   NaN        S  \n",
       "610      5  347082  31.275   NaN        S  \n",
       "813      2  347082  31.275   NaN        S  \n",
       "850      2  347082  31.275   NaN        S  "
      ]
     },
     "execution_count": 35,
     "metadata": {},
     "output_type": "execute_result"
    }
   ],
   "source": [
    "train[train['Ticket']== '347082']"
   ]
  },
  {
   "cell_type": "markdown",
   "metadata": {},
   "source": [
    "**Observations:**<br>\n",
    "1. Tickets are alphanumeric with no specific visible pattern.\n",
    "1. Numeric part in ticket is also not of homogeneous length from which any meaningful pattern maybe extracted.\n",
    "1. Total count is 891, while unique ticket values are only 681 which implies that there are duplicates in Ticket no. This maybe due to the fact that whole family is given same ticket number. We can observe above that all passengers with Ticket no. 347082 have last name as Andersson and 6 family members.\n",
    "\n",
    "There is very less chance that Ticket number of a person might affect his/her survival directly. But Ticket number might give us information about location on deck which in turn affects survival. However seeing the data, it doesn't seem cost-effective to forecefully find that information from it. Instead it might be better for complexity of our hypothesis set if we just **drop** this column entirely."
   ]
  },
  {
   "cell_type": "markdown",
   "metadata": {},
   "source": [
    "### 3.2. Multivariate Analysis"
   ]
  },
  {
   "cell_type": "markdown",
   "metadata": {},
   "source": [
    "In this step, generally we study relation between all independent variables and target variable. However relation within independent variables/ features can also be studied."
   ]
  },
  {
   "cell_type": "markdown",
   "metadata": {},
   "source": [
    "#### Plotting Correlation Map:"
   ]
  },
  {
   "cell_type": "code",
   "execution_count": 36,
   "metadata": {},
   "outputs": [
    {
     "data": {
      "text/plain": [
       "<matplotlib.axes._subplots.AxesSubplot at 0x1a20a5aba8>"
      ]
     },
     "execution_count": 36,
     "metadata": {},
     "output_type": "execute_result"
    },
    {
     "data": {
      "image/png": "[encoded data removed]",
      "text/plain": [
       "<matplotlib.figure.Figure at 0x1a20bc0d30>"
      ]
     },
     "metadata": {},
     "output_type": "display_data"
    }
   ],
   "source": [
    "f,ax = plt.subplots(figsize = (12,10))\n",
    "cmap = sns.diverging_palette( 250 , 10 , as_cmap = True )\n",
    "\n",
    "sns.heatmap(train.corr(),annot = True,square = True,cmap =cmap,ax =ax,annot_kws = {'fontsize': 12})"
   ]
  },
  {
   "cell_type": "markdown",
   "metadata": {},
   "source": [
    "**Observations:**<br>\n",
    "1. Survival is correlated with Fare and Socio-Economic status(as expected). So money and power did save people lives.\n",
    "1. PassengerId has no link at all with survival or any other feature,so now we can safely drop the entire column.\n",
    "1. Apparently Age(in its original form) is not much correlated with Survived. So we will try binning age and then check for correlation.\n",
    "1. Numerically, number of Parents/Children/Siblings/Spouse are not much correlated with Survival.This also makes the case for new feature of \"IsAlone\".\n",
    "1. Pclass and Fare are inversely correlated which makes sense.\n",
    "1. Age is inversely correlated with Pclass which tells richer or socially superior people are generally older in age which is the case in reality too.\n",
    "1. Passengers with more Siblings/Spouse have more parents/children too.\n",
    "\n",
    "Correlation with Sex and Embarked is absent because their data type is string. I will study their correlation later after I encode them in feature engineering step."
   ]
  },
  {
   "cell_type": "markdown",
   "metadata": {},
   "source": [
    "#### Relation between Embarked and Survived:"
   ]
  },
  {
   "cell_type": "code",
   "execution_count": 37,
   "metadata": {},
   "outputs": [
    {
     "data": {
      "text/html": [
       "<div>\n",
       "<style>\n",
       "    .dataframe thead tr:only-child th {\n",
       "        text-align: right;\n",
       "    }\n",
       "\n",
       "    .dataframe thead th {\n",
       "        text-align: left;\n",
       "    }\n",
       "\n",
       "    .dataframe tbody tr th {\n",
       "        vertical-align: top;\n",
       "    }\n",
       "</style>\n",
       "<table border=\"1\" class=\"dataframe\">\n",
       "  <thead>\n",
       "    <tr style=\"text-align: right;\">\n",
       "      <th>Survived</th>\n",
       "      <th>0</th>\n",
       "      <th>1</th>\n",
       "      <th>All</th>\n",
       "    </tr>\n",
       "    <tr>\n",
       "      <th>Embarked</th>\n",
       "      <th></th>\n",
       "      <th></th>\n",
       "      <th></th>\n",
       "    </tr>\n",
       "  </thead>\n",
       "  <tbody>\n",
       "    <tr>\n",
       "      <th>C</th>\n",
       "      <td>8.436445</td>\n",
       "      <td>10.461192</td>\n",
       "      <td>18.897638</td>\n",
       "    </tr>\n",
       "    <tr>\n",
       "      <th>Q</th>\n",
       "      <td>5.286839</td>\n",
       "      <td>3.374578</td>\n",
       "      <td>8.661417</td>\n",
       "    </tr>\n",
       "    <tr>\n",
       "      <th>S</th>\n",
       "      <td>48.031496</td>\n",
       "      <td>24.409449</td>\n",
       "      <td>72.440945</td>\n",
       "    </tr>\n",
       "    <tr>\n",
       "      <th>All</th>\n",
       "      <td>61.754781</td>\n",
       "      <td>38.245219</td>\n",
       "      <td>100.000000</td>\n",
       "    </tr>\n",
       "  </tbody>\n",
       "</table>\n",
       "</div>"
      ],
      "text/plain": [
       "Survived          0          1         All\n",
       "Embarked                                  \n",
       "C          8.436445  10.461192   18.897638\n",
       "Q          5.286839   3.374578    8.661417\n",
       "S         48.031496  24.409449   72.440945\n",
       "All       61.754781  38.245219  100.000000"
      ]
     },
     "execution_count": 37,
     "metadata": {},
     "output_type": "execute_result"
    }
   ],
   "source": [
    "pd.crosstab(train['Embarked'],train['Survived'],margins =True,normalize = True)*100"
   ]
  },
  {
   "cell_type": "code",
   "execution_count": 38,
   "metadata": {},
   "outputs": [
    {
     "data": {
      "text/plain": [
       "<matplotlib.axes._subplots.AxesSubplot at 0x1a210f9320>"
      ]
     },
     "execution_count": 38,
     "metadata": {},
     "output_type": "execute_result"
    },
    {
     "data": {
      "image/png": "[encoded data removed]",
      "text/plain": [
       "<matplotlib.figure.Figure at 0x1a20e13208>"
      ]
     },
     "metadata": {},
     "output_type": "display_data"
    }
   ],
   "source": [
    "plt.subplots(figsize=(5,5))\n",
    "sns.barplot(x= 'Embarked',y='Survived',data = train)"
   ]
  },
  {
   "cell_type": "markdown",
   "metadata": {},
   "source": [
    "Passengers who embarked from station C had better chance of survival. We hypothesized earlier that Embarked might be linked to Pclass which in turn affects Survival, so let's explore relation between all three."
   ]
  },
  {
   "cell_type": "code",
   "execution_count": 39,
   "metadata": {},
   "outputs": [
    {
     "data": {
      "text/plain": [
       "<matplotlib.axes._subplots.AxesSubplot at 0x1a20ad2c18>"
      ]
     },
     "execution_count": 39,
     "metadata": {},
     "output_type": "execute_result"
    },
    {
     "data": {
      "image/png": "[encoded data removed]",
      "text/plain": [
       "<matplotlib.figure.Figure at 0x1a212699b0>"
      ]
     },
     "metadata": {},
     "output_type": "display_data"
    }
   ],
   "source": [
    "sns.barplot(x= 'Embarked',y='Pclass',data = train)"
   ]
  },
  {
   "cell_type": "code",
   "execution_count": 40,
   "metadata": {},
   "outputs": [
    {
     "data": {
      "text/html": [
       "<div>\n",
       "<style>\n",
       "    .dataframe thead tr:only-child th {\n",
       "        text-align: right;\n",
       "    }\n",
       "\n",
       "    .dataframe thead th {\n",
       "        text-align: left;\n",
       "    }\n",
       "\n",
       "    .dataframe tbody tr th {\n",
       "        vertical-align: top;\n",
       "    }\n",
       "</style>\n",
       "<table border=\"1\" class=\"dataframe\">\n",
       "  <thead>\n",
       "    <tr style=\"text-align: right;\">\n",
       "      <th></th>\n",
       "      <th></th>\n",
       "      <th>Pclass</th>\n",
       "    </tr>\n",
       "    <tr>\n",
       "      <th>Embarked</th>\n",
       "      <th>Survived</th>\n",
       "      <th></th>\n",
       "    </tr>\n",
       "  </thead>\n",
       "  <tbody>\n",
       "    <tr>\n",
       "      <th rowspan=\"2\" valign=\"top\">C</th>\n",
       "      <th>0</th>\n",
       "      <td>2.200000</td>\n",
       "    </tr>\n",
       "    <tr>\n",
       "      <th>1</th>\n",
       "      <td>1.634409</td>\n",
       "    </tr>\n",
       "    <tr>\n",
       "      <th rowspan=\"2\" valign=\"top\">Q</th>\n",
       "      <th>0</th>\n",
       "      <td>2.936170</td>\n",
       "    </tr>\n",
       "    <tr>\n",
       "      <th>1</th>\n",
       "      <td>2.866667</td>\n",
       "    </tr>\n",
       "    <tr>\n",
       "      <th rowspan=\"2\" valign=\"top\">S</th>\n",
       "      <th>0</th>\n",
       "      <td>2.545667</td>\n",
       "    </tr>\n",
       "    <tr>\n",
       "      <th>1</th>\n",
       "      <td>1.967742</td>\n",
       "    </tr>\n",
       "  </tbody>\n",
       "</table>\n",
       "</div>"
      ],
      "text/plain": [
       "                     Pclass\n",
       "Embarked Survived          \n",
       "C        0         2.200000\n",
       "         1         1.634409\n",
       "Q        0         2.936170\n",
       "         1         2.866667\n",
       "S        0         2.545667\n",
       "         1         1.967742"
      ]
     },
     "execution_count": 40,
     "metadata": {},
     "output_type": "execute_result"
    }
   ],
   "source": [
    "train[['Embarked','Pclass','Survived']].groupby(['Embarked','Survived']).mean()"
   ]
  },
  {
   "cell_type": "code",
   "execution_count": 41,
   "metadata": {},
   "outputs": [
    {
     "data": {
      "text/plain": [
       "<matplotlib.axes._subplots.AxesSubplot at 0x1a212c0e48>"
      ]
     },
     "execution_count": 41,
     "metadata": {},
     "output_type": "execute_result"
    },
    {
     "data": {
      "image/png": "[encoded data removed]",
      "text/plain": [
       "<matplotlib.figure.Figure at 0x1a21269a20>"
      ]
     },
     "metadata": {},
     "output_type": "display_data"
    }
   ],
   "source": [
    "sns.barplot(x='Embarked',y='Pclass',hue ='Survived',data=train)"
   ]
  },
  {
   "cell_type": "markdown",
   "metadata": {},
   "source": [
    "1. We can observe that passengers who embarked from C are majorly from higher or middle class thus they have better chance of survival. \n",
    "1. Passengers who embarked from Q were predominantly from lower class thus there is no difference in class between their survived and dead passengers. \n",
    "1. On the other hand passengers who survived from station C and S were majorly from higher or middle class and vice a versa. \n",
    "1. Though relation between Pclass and Survived became clear but still lets visualise their bilateral relation."
   ]
  },
  {
   "cell_type": "markdown",
   "metadata": {},
   "source": [
    "**Relation between Pclass and Survived**"
   ]
  },
  {
   "cell_type": "code",
   "execution_count": 42,
   "metadata": {},
   "outputs": [
    {
     "data": {
      "text/plain": [
       "<matplotlib.axes._subplots.AxesSubplot at 0x1a214b23c8>"
      ]
     },
     "execution_count": 42,
     "metadata": {},
     "output_type": "execute_result"
    },
    {
     "data": {
      "image/png": "[encoded data removed]",
      "text/plain": [
       "<matplotlib.figure.Figure at 0x1a20bfccc0>"
      ]
     },
     "metadata": {},
     "output_type": "display_data"
    }
   ],
   "source": [
    "sns.pointplot(x='Pclass',y= 'Survived',data = train)"
   ]
  },
  {
   "cell_type": "markdown",
   "metadata": {},
   "source": [
    "**Sex and Survived:**"
   ]
  },
  {
   "cell_type": "code",
   "execution_count": 43,
   "metadata": {},
   "outputs": [
    {
     "data": {
      "text/html": [
       "<div>\n",
       "<style>\n",
       "    .dataframe thead tr:only-child th {\n",
       "        text-align: right;\n",
       "    }\n",
       "\n",
       "    .dataframe thead th {\n",
       "        text-align: left;\n",
       "    }\n",
       "\n",
       "    .dataframe tbody tr th {\n",
       "        vertical-align: top;\n",
       "    }\n",
       "</style>\n",
       "<table border=\"1\" class=\"dataframe\">\n",
       "  <thead>\n",
       "    <tr style=\"text-align: right;\">\n",
       "      <th>Survived</th>\n",
       "      <th>0</th>\n",
       "      <th>1</th>\n",
       "      <th>All</th>\n",
       "    </tr>\n",
       "    <tr>\n",
       "      <th>Sex</th>\n",
       "      <th></th>\n",
       "      <th></th>\n",
       "      <th></th>\n",
       "    </tr>\n",
       "  </thead>\n",
       "  <tbody>\n",
       "    <tr>\n",
       "      <th>female</th>\n",
       "      <td>9.090909</td>\n",
       "      <td>26.150393</td>\n",
       "      <td>35.241302</td>\n",
       "    </tr>\n",
       "    <tr>\n",
       "      <th>male</th>\n",
       "      <td>52.525253</td>\n",
       "      <td>12.233446</td>\n",
       "      <td>64.758698</td>\n",
       "    </tr>\n",
       "    <tr>\n",
       "      <th>All</th>\n",
       "      <td>61.616162</td>\n",
       "      <td>38.383838</td>\n",
       "      <td>100.000000</td>\n",
       "    </tr>\n",
       "  </tbody>\n",
       "</table>\n",
       "</div>"
      ],
      "text/plain": [
       "Survived          0          1         All\n",
       "Sex                                       \n",
       "female     9.090909  26.150393   35.241302\n",
       "male      52.525253  12.233446   64.758698\n",
       "All       61.616162  38.383838  100.000000"
      ]
     },
     "execution_count": 43,
     "metadata": {},
     "output_type": "execute_result"
    }
   ],
   "source": [
    "pd.crosstab(train['Sex'],train['Survived'],margins =True,normalize = True)*100"
   ]
  },
  {
   "cell_type": "code",
   "execution_count": 44,
   "metadata": {},
   "outputs": [
    {
     "data": {
      "text/plain": [
       "<matplotlib.axes._subplots.AxesSubplot at 0x1a20576978>"
      ]
     },
     "execution_count": 44,
     "metadata": {},
     "output_type": "execute_result"
    },
    {
     "data": {
      "image/png": "[encoded data removed]",
      "text/plain": [
       "<matplotlib.figure.Figure at 0x1a20cd4ef0>"
      ]
     },
     "metadata": {},
     "output_type": "display_data"
    }
   ],
   "source": [
    "sns.barplot(x='Sex',y='Survived',data = train)"
   ]
  },
  {
   "cell_type": "markdown",
   "metadata": {},
   "source": [
    "This confirms the social convention of saving women first. To confirm children are also protected first lets see another visualisation."
   ]
  },
  {
   "cell_type": "markdown",
   "metadata": {},
   "source": [
    "** Age and Survived: **"
   ]
  },
  {
   "cell_type": "code",
   "execution_count": 45,
   "metadata": {},
   "outputs": [
    {
     "data": {
      "text/plain": [
       "<seaborn.axisgrid.FacetGrid at 0x1a214c7dd8>"
      ]
     },
     "execution_count": 45,
     "metadata": {},
     "output_type": "execute_result"
    },
    {
     "data": {
      "image/png": "[encoded data removed]",
      "text/plain": [
       "<matplotlib.figure.Figure at 0x1a214b2860>"
      ]
     },
     "metadata": {},
     "output_type": "display_data"
    }
   ],
   "source": [
    "g = sns.FacetGrid(data= train,hue ='Survived',aspect =3.5,size =4)\n",
    "g.map(sns.kdeplot,'Age',shade = True)\n",
    "g.add_legend()"
   ]
  },
  {
   "cell_type": "markdown",
   "metadata": {},
   "source": [
    "Thus it is confirmed that social convention of saving women and children first was followed during titanic disaster too. Elders( above 60 yrs) were not saved."
   ]
  },
  {
   "cell_type": "markdown",
   "metadata": {},
   "source": [
    "** Fare and Survived: **"
   ]
  },
  {
   "cell_type": "code",
   "execution_count": 46,
   "metadata": {},
   "outputs": [
    {
     "data": {
      "text/plain": [
       "<seaborn.axisgrid.FacetGrid at 0x1a2170b128>"
      ]
     },
     "execution_count": 46,
     "metadata": {},
     "output_type": "execute_result"
    },
    {
     "data": {
      "image/png": "[encoded data removed]",
      "text/plain": [
       "<matplotlib.figure.Figure at 0x1a216fe6d8>"
      ]
     },
     "metadata": {},
     "output_type": "display_data"
    }
   ],
   "source": [
    "g = sns.FacetGrid(data= train,hue ='Survived',aspect =3.5,size =4)\n",
    "g.map(sns.kdeplot,'Fare',shade = True)\n",
    "g.add_legend()"
   ]
  },
  {
   "cell_type": "markdown",
   "metadata": {},
   "source": [
    "Passengers who paid higher fare had better chance of survival. However fare of most of the passengers was in range of $0-100."
   ]
  },
  {
   "cell_type": "markdown",
   "metadata": {},
   "source": [
    "We have so far analysed current features in isolation as well as in relation to Survival. While analysing we realised the necesseity of transformation in some cases. Thus in next stage we will engineer new features or transform existing ones to increase their prediction power."
   ]
  },
  {
   "cell_type": "markdown",
   "metadata": {},
   "source": [
    "# 4. Feature Engineering"
   ]
  },
  {
   "cell_type": "markdown",
   "metadata": {},
   "source": [
    "Let's summarise the observations we made in above sections. On the basis of those observations, we will feature new engineers: \n",
    "1. Drop PassengerId and Ticket columns entirely.\n",
    "1. Combine SibSp and Parch into No. of family members.\n",
    "1. Create a new column of whether passenger is alone or not. We may also try to categorise family into 3 bins: 'Alone', 'Couple' and 'Family'.\n",
    "1. Extract 'Title' from name.\n",
    "1. Extract alphabets(Deck name) from Cabin.\n",
    "1. Encode categorical variables: Sex, Embarked and Cabin."
   ]
  },
  {
   "cell_type": "markdown",
   "metadata": {},
   "source": [
    "**Dropping useless columns: **"
   ]
  },
  {
   "cell_type": "code",
   "execution_count": 47,
   "metadata": {
    "_cell_guid": "14fb8919-3639-4fcb-8237-68cfe42b18dd",
    "_uuid": "ebd566a1c9d450fc0108735c2931e0361d674b5b",
    "collapsed": true
   },
   "outputs": [],
   "source": [
    "train = train.drop(['PassengerId','Ticket'],axis=1)\n",
    "test = test.drop('Ticket',axis=1)"
   ]
  },
  {
   "cell_type": "markdown",
   "metadata": {},
   "source": [
    "We will drop PassengerId from test set later because we will need PassengerId to submit predictions on Kaggle and check score."
   ]
  },
  {
   "cell_type": "markdown",
   "metadata": {},
   "source": [
    "** Family members feature:**"
   ]
  },
  {
   "cell_type": "code",
   "execution_count": 48,
   "metadata": {
    "_cell_guid": "c140a183-d300-4d88-8abd-fd7c19f5c7f4",
    "_uuid": "8435a295adf8ec5f63c9cf76c0cca92d9b9e42f3",
    "collapsed": true
   },
   "outputs": [],
   "source": [
    "train['Family'] = train['SibSp']+train['Parch']\n",
    "test['Family'] = test['SibSp']+test['Parch']"
   ]
  },
  {
   "cell_type": "markdown",
   "metadata": {},
   "source": [
    "Let's analyse this new feature."
   ]
  },
  {
   "cell_type": "code",
   "execution_count": 49,
   "metadata": {},
   "outputs": [
    {
     "data": {
      "text/plain": [
       "0     537\n",
       "1     161\n",
       "2     102\n",
       "3      29\n",
       "5      22\n",
       "4      15\n",
       "6      12\n",
       "10      7\n",
       "7       6\n",
       "Name: Family, dtype: int64"
      ]
     },
     "execution_count": 49,
     "metadata": {},
     "output_type": "execute_result"
    }
   ],
   "source": [
    "train['Family'].value_counts()"
   ]
  },
  {
   "cell_type": "markdown",
   "metadata": {},
   "source": [
    "Passengers with more than 2 family members are very few so let's combine them together in one category. I am giving them number 3 for now."
   ]
  },
  {
   "cell_type": "code",
   "execution_count": 50,
   "metadata": {
    "collapsed": true
   },
   "outputs": [],
   "source": [
    "train['Family'] = train['Family'].apply(lambda x: 3 if x>2 else x)\n",
    "test['Family'] = test['Family'].apply(lambda x: 3 if x>2 else x)"
   ]
  },
  {
   "cell_type": "code",
   "execution_count": 51,
   "metadata": {},
   "outputs": [
    {
     "data": {
      "text/plain": [
       "0    253\n",
       "1     74\n",
       "2     57\n",
       "3     34\n",
       "Name: Family, dtype: int64"
      ]
     },
     "execution_count": 51,
     "metadata": {},
     "output_type": "execute_result"
    }
   ],
   "source": [
    "test['Family'].value_counts()"
   ]
  },
  {
   "cell_type": "code",
   "execution_count": 52,
   "metadata": {},
   "outputs": [
    {
     "data": {
      "text/plain": [
       "<matplotlib.axes._subplots.AxesSubplot at 0x1a213cf390>"
      ]
     },
     "execution_count": 52,
     "metadata": {},
     "output_type": "execute_result"
    },
    {
     "data": {
      "image/png": "[encoded data removed]",
      "text/plain": [
       "<matplotlib.figure.Figure at 0x10f9ef898>"
      ]
     },
     "metadata": {},
     "output_type": "display_data"
    }
   ],
   "source": [
    "sns.barplot(x ='Family',y='Survived',data= train)"
   ]
  },
  {
   "cell_type": "markdown",
   "metadata": {},
   "source": [
    "We will not be using Parch and SibSp columns now once we have family members column. It will unnecessarily increase complexity of our hypothesis set."
   ]
  },
  {
   "cell_type": "code",
   "execution_count": 53,
   "metadata": {
    "collapsed": true
   },
   "outputs": [],
   "source": [
    "train.drop(['SibSp','Parch'],axis =1 ,inplace = True)\n",
    "test.drop(['SibSp','Parch'],axis =1 ,inplace = True)"
   ]
  },
  {
   "cell_type": "code",
   "execution_count": 54,
   "metadata": {
    "collapsed": true
   },
   "outputs": [],
   "source": [
    "train['IsAlone'] = train['Family'].apply(lambda x: 1 if x==0 else 0)"
   ]
  },
  {
   "cell_type": "code",
   "execution_count": 55,
   "metadata": {
    "collapsed": true
   },
   "outputs": [],
   "source": [
    "test['IsAlone'] = test['Family'].apply(lambda x: 1 if x==0 else 0)"
   ]
  },
  {
   "cell_type": "code",
   "execution_count": 56,
   "metadata": {},
   "outputs": [
    {
     "data": {
      "text/plain": [
       "<matplotlib.axes._subplots.AxesSubplot at 0x1a21de6710>"
      ]
     },
     "execution_count": 56,
     "metadata": {},
     "output_type": "execute_result"
    },
    {
     "data": {
      "image/png": "[encoded data removed]",
      "text/plain": [
       "<matplotlib.figure.Figure at 0x1a214cd860>"
      ]
     },
     "metadata": {},
     "output_type": "display_data"
    }
   ],
   "source": [
    "sns.barplot(x ='IsAlone',y='Survived',data= train)"
   ]
  },
  {
   "cell_type": "markdown",
   "metadata": {},
   "source": [
    "Ironically passengers who were travelling alone had lower chance of survival."
   ]
  },
  {
   "cell_type": "markdown",
   "metadata": {},
   "source": [
    "** Extracting Title from Name: **"
   ]
  },
  {
   "cell_type": "code",
   "execution_count": 57,
   "metadata": {
    "collapsed": true
   },
   "outputs": [],
   "source": [
    "train['Title'] = train['Name'].apply(lambda x : x.split(',')[1].split('.')[0].strip())\n",
    "train.drop('Name',axis=1,inplace = True)\n",
    "test['Title'] = test['Name'].apply(lambda x : x.split(',')[1].split('.')[0].strip())\n",
    "test.drop('Name',axis=1,inplace = True)"
   ]
  },
  {
   "cell_type": "code",
   "execution_count": 58,
   "metadata": {},
   "outputs": [
    {
     "data": {
      "text/plain": [
       "Mr              517\n",
       "Miss            182\n",
       "Mrs             125\n",
       "Master           40\n",
       "Dr                7\n",
       "Rev               6\n",
       "Col               2\n",
       "Mlle              2\n",
       "Major             2\n",
       "Lady              1\n",
       "Capt              1\n",
       "Sir               1\n",
       "the Countess      1\n",
       "Ms                1\n",
       "Mme               1\n",
       "Don               1\n",
       "Jonkheer          1\n",
       "Name: Title, dtype: int64"
      ]
     },
     "execution_count": 58,
     "metadata": {},
     "output_type": "execute_result"
    }
   ],
   "source": [
    "train['Title'].value_counts()"
   ]
  },
  {
   "cell_type": "markdown",
   "metadata": {},
   "source": [
    "We observe that most of the titles are general like Mr., Miss., Mrs., Master. But there are certain titles which denote that passenger belonged to royal family like Countess, Lady, Sir, etc. Certain titles denote that person held an authoritative/respectable post like Major, Capt, Dr., etc. Mlle and Mme are just French for Miss and Mrs respectively. Thus in addition to general titles we will create two more classes \"Officer\" and \"Royalty\" in which we will place officers and members from royal family respectively."
   ]
  },
  {
   "cell_type": "code",
   "execution_count": 59,
   "metadata": {
    "collapsed": true
   },
   "outputs": [],
   "source": [
    "Title_Dictionary = {\n",
    "                        \"Capt\":       \"Officer\",\n",
    "                        \"Col\":        \"Officer\",\n",
    "                        \"Major\":      \"Officer\",\n",
    "                        \"Jonkheer\":   \"Royalty\",\n",
    "                        \"Don\":        \"Royalty\",\n",
    "                        \"Sir\" :       \"Royalty\",\n",
    "                        \"Dr\":         \"Officer\",\n",
    "                        \"Rev\":        \"Officer\",\n",
    "                        \"the Countess\":\"Royalty\",\n",
    "                        \"Dona\":       \"Royalty\",\n",
    "                        \"Mme\":        \"Mrs\",\n",
    "                        \"Mlle\":       \"Miss\",\n",
    "                        \"Ms\":         \"Mrs\",\n",
    "                        \"Mr\" :        \"Mr\",\n",
    "                        \"Mrs\" :       \"Mrs\",\n",
    "                        \"Miss\" :      \"Miss\",\n",
    "                        \"Master\" :    \"Master\",\n",
    "                        \"Lady\" :      \"Royalty\"\n",
    "\n",
    "                        }\n",
    "train['Title'] = train.Title.map(Title_Dictionary) \n",
    "test['Title'] = test.Title.map(Title_Dictionary)"
   ]
  },
  {
   "cell_type": "code",
   "execution_count": 60,
   "metadata": {},
   "outputs": [
    {
     "data": {
      "text/plain": [
       "Mr         517\n",
       "Miss       184\n",
       "Mrs        127\n",
       "Master      40\n",
       "Officer     18\n",
       "Royalty      5\n",
       "Name: Title, dtype: int64"
      ]
     },
     "execution_count": 60,
     "metadata": {},
     "output_type": "execute_result"
    }
   ],
   "source": [
    "train['Title'].value_counts()"
   ]
  },
  {
   "cell_type": "code",
   "execution_count": 61,
   "metadata": {},
   "outputs": [
    {
     "data": {
      "text/plain": [
       "<matplotlib.axes._subplots.AxesSubplot at 0x1a21efed68>"
      ]
     },
     "execution_count": 61,
     "metadata": {},
     "output_type": "execute_result"
    },
    {
     "data": {
      "image/png": "[encoded data removed]",
      "text/plain": [
       "<matplotlib.figure.Figure at 0x1a216a6710>"
      ]
     },
     "metadata": {},
     "output_type": "display_data"
    }
   ],
   "source": [
    "sns.barplot(x='Title',y ='Survived',data = train)"
   ]
  },
  {
   "cell_type": "markdown",
   "metadata": {},
   "source": [
    "1. Chances of survival of Mrs, Miss and Master are higher than Mr: We already confirmed this fact before by analysing relation between sex,age and survived. \n",
    "1. Members of royal family had higher chance of survival because of their high social status. \n",
    "1. Officers didn't survive because they would have helped others before saving themselves."
   ]
  },
  {
   "cell_type": "markdown",
   "metadata": {},
   "source": [
    "** Transforming Cabin:**"
   ]
  },
  {
   "cell_type": "markdown",
   "metadata": {},
   "source": [
    "Before extracting first alphabet from cabin names, let's fill all missing values with alphabet 'U' (short for unknown.) We are filling missing values with unknown because there are a lot of missing values and filling with mode may not be a good choice."
   ]
  },
  {
   "cell_type": "code",
   "execution_count": 62,
   "metadata": {
    "collapsed": true
   },
   "outputs": [],
   "source": [
    "train['Cabin'].fillna('U',inplace = True)\n",
    "train['Cabin'] = train['Cabin'].map(lambda x: x[0])\n",
    "test['Cabin'].fillna('U',inplace = True)\n",
    "test['Cabin'] = test['Cabin'].map(lambda x: x[0])"
   ]
  },
  {
   "cell_type": "code",
   "execution_count": 63,
   "metadata": {},
   "outputs": [
    {
     "data": {
      "text/plain": [
       "U    687\n",
       "C     59\n",
       "B     47\n",
       "D     33\n",
       "E     32\n",
       "A     15\n",
       "F     13\n",
       "G      4\n",
       "T      1\n",
       "Name: Cabin, dtype: int64"
      ]
     },
     "execution_count": 63,
     "metadata": {},
     "output_type": "execute_result"
    }
   ],
   "source": [
    "train['Cabin'].value_counts()"
   ]
  },
  {
   "cell_type": "code",
   "execution_count": 64,
   "metadata": {},
   "outputs": [
    {
     "data": {
      "text/plain": [
       "<matplotlib.axes._subplots.AxesSubplot at 0x1a21e0b9e8>"
      ]
     },
     "execution_count": 64,
     "metadata": {},
     "output_type": "execute_result"
    },
    {
     "data": {
      "image/png": "[encoded data removed]",
      "text/plain": [
       "<matplotlib.figure.Figure at 0x1a214cd4a8>"
      ]
     },
     "metadata": {},
     "output_type": "display_data"
    }
   ],
   "source": [
    "sns.barplot(x ='Cabin',y = 'Survived',data = train)"
   ]
  },
  {
   "cell_type": "markdown",
   "metadata": {},
   "source": [
    "Passengers from cabin B,D and E had higher chance of survival. However,since most of the cabin data is missing we can't make any meaningful conclusions."
   ]
  },
  {
   "cell_type": "markdown",
   "metadata": {},
   "source": [
    "### Missing Value Treatment:"
   ]
  },
  {
   "cell_type": "markdown",
   "metadata": {},
   "source": [
    "Features in training set with missing values:\n",
    "1. Age\n",
    "1. Embarked\n",
    "\n",
    "We need to fill missing values in test set too. So let's see which variables in test set have missing values."
   ]
  },
  {
   "cell_type": "code",
   "execution_count": 65,
   "metadata": {},
   "outputs": [
    {
     "data": {
      "text/html": [
       "<div>\n",
       "<style>\n",
       "    .dataframe thead tr:only-child th {\n",
       "        text-align: right;\n",
       "    }\n",
       "\n",
       "    .dataframe thead th {\n",
       "        text-align: left;\n",
       "    }\n",
       "\n",
       "    .dataframe tbody tr th {\n",
       "        vertical-align: top;\n",
       "    }\n",
       "</style>\n",
       "<table border=\"1\" class=\"dataframe\">\n",
       "  <thead>\n",
       "    <tr style=\"text-align: right;\">\n",
       "      <th></th>\n",
       "      <th>PassengerId</th>\n",
       "      <th>Pclass</th>\n",
       "      <th>Age</th>\n",
       "      <th>Fare</th>\n",
       "      <th>Family</th>\n",
       "      <th>IsAlone</th>\n",
       "    </tr>\n",
       "  </thead>\n",
       "  <tbody>\n",
       "    <tr>\n",
       "      <th>count</th>\n",
       "      <td>418.000000</td>\n",
       "      <td>418.000000</td>\n",
       "      <td>332.000000</td>\n",
       "      <td>417.000000</td>\n",
       "      <td>418.000000</td>\n",
       "      <td>418.000000</td>\n",
       "    </tr>\n",
       "    <tr>\n",
       "      <th>mean</th>\n",
       "      <td>1100.500000</td>\n",
       "      <td>2.265550</td>\n",
       "      <td>30.272590</td>\n",
       "      <td>35.627188</td>\n",
       "      <td>0.693780</td>\n",
       "      <td>0.605263</td>\n",
       "    </tr>\n",
       "    <tr>\n",
       "      <th>std</th>\n",
       "      <td>120.810458</td>\n",
       "      <td>0.841838</td>\n",
       "      <td>14.181209</td>\n",
       "      <td>55.907576</td>\n",
       "      <td>0.987699</td>\n",
       "      <td>0.489380</td>\n",
       "    </tr>\n",
       "    <tr>\n",
       "      <th>min</th>\n",
       "      <td>892.000000</td>\n",
       "      <td>1.000000</td>\n",
       "      <td>0.170000</td>\n",
       "      <td>0.000000</td>\n",
       "      <td>0.000000</td>\n",
       "      <td>0.000000</td>\n",
       "    </tr>\n",
       "    <tr>\n",
       "      <th>25%</th>\n",
       "      <td>996.250000</td>\n",
       "      <td>1.000000</td>\n",
       "      <td>21.000000</td>\n",
       "      <td>7.895800</td>\n",
       "      <td>0.000000</td>\n",
       "      <td>0.000000</td>\n",
       "    </tr>\n",
       "    <tr>\n",
       "      <th>50%</th>\n",
       "      <td>1100.500000</td>\n",
       "      <td>3.000000</td>\n",
       "      <td>27.000000</td>\n",
       "      <td>14.454200</td>\n",
       "      <td>0.000000</td>\n",
       "      <td>1.000000</td>\n",
       "    </tr>\n",
       "    <tr>\n",
       "      <th>75%</th>\n",
       "      <td>1204.750000</td>\n",
       "      <td>3.000000</td>\n",
       "      <td>39.000000</td>\n",
       "      <td>31.500000</td>\n",
       "      <td>1.000000</td>\n",
       "      <td>1.000000</td>\n",
       "    </tr>\n",
       "    <tr>\n",
       "      <th>max</th>\n",
       "      <td>1309.000000</td>\n",
       "      <td>3.000000</td>\n",
       "      <td>76.000000</td>\n",
       "      <td>512.329200</td>\n",
       "      <td>3.000000</td>\n",
       "      <td>1.000000</td>\n",
       "    </tr>\n",
       "  </tbody>\n",
       "</table>\n",
       "</div>"
      ],
      "text/plain": [
       "       PassengerId      Pclass         Age        Fare      Family     IsAlone\n",
       "count   418.000000  418.000000  332.000000  417.000000  418.000000  418.000000\n",
       "mean   1100.500000    2.265550   30.272590   35.627188    0.693780    0.605263\n",
       "std     120.810458    0.841838   14.181209   55.907576    0.987699    0.489380\n",
       "min     892.000000    1.000000    0.170000    0.000000    0.000000    0.000000\n",
       "25%     996.250000    1.000000   21.000000    7.895800    0.000000    0.000000\n",
       "50%    1100.500000    3.000000   27.000000   14.454200    0.000000    1.000000\n",
       "75%    1204.750000    3.000000   39.000000   31.500000    1.000000    1.000000\n",
       "max    1309.000000    3.000000   76.000000  512.329200    3.000000    1.000000"
      ]
     },
     "execution_count": 65,
     "metadata": {},
     "output_type": "execute_result"
    }
   ],
   "source": [
    "test.describe()"
   ]
  },
  {
   "cell_type": "code",
   "execution_count": 66,
   "metadata": {},
   "outputs": [
    {
     "data": {
      "text/html": [
       "<div>\n",
       "<style>\n",
       "    .dataframe thead tr:only-child th {\n",
       "        text-align: right;\n",
       "    }\n",
       "\n",
       "    .dataframe thead th {\n",
       "        text-align: left;\n",
       "    }\n",
       "\n",
       "    .dataframe tbody tr th {\n",
       "        vertical-align: top;\n",
       "    }\n",
       "</style>\n",
       "<table border=\"1\" class=\"dataframe\">\n",
       "  <thead>\n",
       "    <tr style=\"text-align: right;\">\n",
       "      <th></th>\n",
       "      <th>Sex</th>\n",
       "      <th>Cabin</th>\n",
       "      <th>Embarked</th>\n",
       "      <th>Title</th>\n",
       "    </tr>\n",
       "  </thead>\n",
       "  <tbody>\n",
       "    <tr>\n",
       "      <th>count</th>\n",
       "      <td>418</td>\n",
       "      <td>418</td>\n",
       "      <td>418</td>\n",
       "      <td>418</td>\n",
       "    </tr>\n",
       "    <tr>\n",
       "      <th>unique</th>\n",
       "      <td>2</td>\n",
       "      <td>8</td>\n",
       "      <td>3</td>\n",
       "      <td>6</td>\n",
       "    </tr>\n",
       "    <tr>\n",
       "      <th>top</th>\n",
       "      <td>male</td>\n",
       "      <td>U</td>\n",
       "      <td>S</td>\n",
       "      <td>Mr</td>\n",
       "    </tr>\n",
       "    <tr>\n",
       "      <th>freq</th>\n",
       "      <td>266</td>\n",
       "      <td>327</td>\n",
       "      <td>270</td>\n",
       "      <td>240</td>\n",
       "    </tr>\n",
       "  </tbody>\n",
       "</table>\n",
       "</div>"
      ],
      "text/plain": [
       "         Sex Cabin Embarked Title\n",
       "count    418   418      418   418\n",
       "unique     2     8        3     6\n",
       "top     male     U        S    Mr\n",
       "freq     266   327      270   240"
      ]
     },
     "execution_count": 66,
     "metadata": {},
     "output_type": "execute_result"
    }
   ],
   "source": [
    "test.describe(include =['O'])"
   ]
  },
  {
   "cell_type": "markdown",
   "metadata": {},
   "source": [
    "Features in test set with missing value are :\n",
    "1. Age\n",
    "1. Fare"
   ]
  },
  {
   "cell_type": "markdown",
   "metadata": {},
   "source": [
    "#### Filling Age:"
   ]
  },
  {
   "cell_type": "markdown",
   "metadata": {},
   "source": [
    "There can be many ways of filling missing values. We can either fill with median/mean/mode age. We can fill it with any random number between mean and standard deviation or we can predict it using other features. We exploit the connection between Title, Pclass, Sex and Age to fill missing age values."
   ]
  },
  {
   "cell_type": "code",
   "execution_count": 67,
   "metadata": {
    "_cell_guid": "a2400e10-457d-4344-b9d9-0869d7eda5f2",
    "_uuid": "6841b4d58221c9335e6c2e525c3570de80101113",
    "collapsed": true
   },
   "outputs": [],
   "source": [
    "# Filling missing age of training data:\n",
    "grouped_data= train.groupby(['Sex','Pclass','Title'])\n",
    "grouped_data_median = grouped_data.median()\n",
    "nullAges = train.index[train['Age'].isnull()].tolist()\n",
    "for i in nullAges:\n",
    "    if(pd.isnull(train['Age'][i])):\n",
    "        train['Age'][i]= grouped_data_median['Age'][train.ix[i,'Sex']][train.ix[i,'Pclass']][train.ix[i,'Title']]"
   ]
  },
  {
   "cell_type": "code",
   "execution_count": 68,
   "metadata": {
    "_cell_guid": "e3078701-d54f-4af9-b706-0fe4e4d5d29d",
    "_uuid": "10844063410db8ee6f5345fca503466e17a51c02",
    "collapsed": true
   },
   "outputs": [],
   "source": [
    "# Filling missing age of test data:\n",
    "grouped_test= test.groupby(['Sex','Pclass','Title'])\n",
    "grouped_test_median = grouped_test.median()\n",
    "nullTestAges = test.index[test['Age'].isnull()].tolist()\n",
    "for i in nullTestAges:\n",
    "    if(pd.isnull(test['Age'][i])):\n",
    "        test['Age'][i]= grouped_test_median['Age'][test.ix[i,'Sex']][test.ix[i,'Pclass']][test.ix[i,'Title']]"
   ]
  },
  {
   "cell_type": "code",
   "execution_count": 69,
   "metadata": {},
   "outputs": [
    {
     "data": {
      "text/plain": [
       "<matplotlib.axes._subplots.AxesSubplot at 0x1a220f2400>"
      ]
     },
     "execution_count": 69,
     "metadata": {},
     "output_type": "execute_result"
    },
    {
     "data": {
      "image/png": "[encoded data removed]",
      "text/plain": [
       "<matplotlib.figure.Figure at 0x1a212a01d0>"
      ]
     },
     "metadata": {},
     "output_type": "display_data"
    }
   ],
   "source": [
    "sns.kdeplot(train['Age'],shade = True)"
   ]
  },
  {
   "cell_type": "code",
   "execution_count": 70,
   "metadata": {},
   "outputs": [
    {
     "data": {
      "text/plain": [
       "<matplotlib.axes._subplots.AxesSubplot at 0x1a220fc128>"
      ]
     },
     "execution_count": 70,
     "metadata": {},
     "output_type": "execute_result"
    },
    {
     "data": {
      "image/png": "[encoded data removed]",
      "text/plain": [
       "<matplotlib.figure.Figure at 0x1a22147080>"
      ]
     },
     "metadata": {},
     "output_type": "display_data"
    }
   ],
   "source": [
    "sns.kdeplot(test['Age'],shade = True)"
   ]
  },
  {
   "cell_type": "markdown",
   "metadata": {},
   "source": [
    "We observe distribution is close to normal so there is no need to tranform it."
   ]
  },
  {
   "cell_type": "markdown",
   "metadata": {},
   "source": [
    "#### Filling Missing Embarked:"
   ]
  },
  {
   "cell_type": "markdown",
   "metadata": {},
   "source": [
    "We observe that there are only two missing values for Embarked. So we will just fill with mode of Embarked rather than applying any complex process."
   ]
  },
  {
   "cell_type": "code",
   "execution_count": 71,
   "metadata": {
    "collapsed": true
   },
   "outputs": [],
   "source": [
    "train['Embarked'].fillna('S',inplace = True)"
   ]
  },
  {
   "cell_type": "markdown",
   "metadata": {},
   "source": [
    "#### Filling Missing Fare: "
   ]
  },
  {
   "cell_type": "markdown",
   "metadata": {},
   "source": [
    "Fare is linked with Pclass of a person and station from where he embarked. So we will use that information to fill missing fare value."
   ]
  },
  {
   "cell_type": "code",
   "execution_count": 72,
   "metadata": {},
   "outputs": [
    {
     "data": {
      "text/html": [
       "<div>\n",
       "<style>\n",
       "    .dataframe thead tr:only-child th {\n",
       "        text-align: right;\n",
       "    }\n",
       "\n",
       "    .dataframe thead th {\n",
       "        text-align: left;\n",
       "    }\n",
       "\n",
       "    .dataframe tbody tr th {\n",
       "        vertical-align: top;\n",
       "    }\n",
       "</style>\n",
       "<table border=\"1\" class=\"dataframe\">\n",
       "  <thead>\n",
       "    <tr style=\"text-align: right;\">\n",
       "      <th></th>\n",
       "      <th>PassengerId</th>\n",
       "      <th>Pclass</th>\n",
       "      <th>Sex</th>\n",
       "      <th>Age</th>\n",
       "      <th>Fare</th>\n",
       "      <th>Cabin</th>\n",
       "      <th>Embarked</th>\n",
       "      <th>Family</th>\n",
       "      <th>IsAlone</th>\n",
       "      <th>Title</th>\n",
       "    </tr>\n",
       "  </thead>\n",
       "  <tbody>\n",
       "    <tr>\n",
       "      <th>152</th>\n",
       "      <td>1044</td>\n",
       "      <td>3</td>\n",
       "      <td>male</td>\n",
       "      <td>60.5</td>\n",
       "      <td>NaN</td>\n",
       "      <td>U</td>\n",
       "      <td>S</td>\n",
       "      <td>0</td>\n",
       "      <td>1</td>\n",
       "      <td>Mr</td>\n",
       "    </tr>\n",
       "  </tbody>\n",
       "</table>\n",
       "</div>"
      ],
      "text/plain": [
       "     PassengerId  Pclass   Sex   Age  Fare Cabin Embarked  Family  IsAlone  \\\n",
       "152         1044       3  male  60.5   NaN     U        S       0        1   \n",
       "\n",
       "    Title  \n",
       "152    Mr  "
      ]
     },
     "execution_count": 72,
     "metadata": {},
     "output_type": "execute_result"
    }
   ],
   "source": [
    "test[test['Fare'].isnull()]"
   ]
  },
  {
   "cell_type": "code",
   "execution_count": 73,
   "metadata": {},
   "outputs": [
    {
     "data": {
      "text/html": [
       "<div>\n",
       "<style>\n",
       "    .dataframe thead tr:only-child th {\n",
       "        text-align: right;\n",
       "    }\n",
       "\n",
       "    .dataframe thead th {\n",
       "        text-align: left;\n",
       "    }\n",
       "\n",
       "    .dataframe tbody tr th {\n",
       "        vertical-align: top;\n",
       "    }\n",
       "</style>\n",
       "<table border=\"1\" class=\"dataframe\">\n",
       "  <thead>\n",
       "    <tr style=\"text-align: right;\">\n",
       "      <th></th>\n",
       "      <th></th>\n",
       "      <th></th>\n",
       "      <th></th>\n",
       "      <th>PassengerId</th>\n",
       "      <th>Age</th>\n",
       "      <th>Fare</th>\n",
       "      <th>Family</th>\n",
       "      <th>IsAlone</th>\n",
       "    </tr>\n",
       "    <tr>\n",
       "      <th>Sex</th>\n",
       "      <th>Pclass</th>\n",
       "      <th>Embarked</th>\n",
       "      <th>Title</th>\n",
       "      <th></th>\n",
       "      <th></th>\n",
       "      <th></th>\n",
       "      <th></th>\n",
       "      <th></th>\n",
       "    </tr>\n",
       "  </thead>\n",
       "  <tbody>\n",
       "    <tr>\n",
       "      <th rowspan=\"16\" valign=\"top\">female</th>\n",
       "      <th rowspan=\"6\" valign=\"top\">1</th>\n",
       "      <th rowspan=\"3\" valign=\"top\">C</th>\n",
       "      <th>Miss</th>\n",
       "      <td>1052.0</td>\n",
       "      <td>34.0</td>\n",
       "      <td>98.23960</td>\n",
       "      <td>0.0</td>\n",
       "      <td>1.0</td>\n",
       "    </tr>\n",
       "    <tr>\n",
       "      <th>Mrs</th>\n",
       "      <td>1116.0</td>\n",
       "      <td>48.0</td>\n",
       "      <td>79.20000</td>\n",
       "      <td>1.0</td>\n",
       "      <td>0.0</td>\n",
       "    </tr>\n",
       "    <tr>\n",
       "      <th>Royalty</th>\n",
       "      <td>1306.0</td>\n",
       "      <td>39.0</td>\n",
       "      <td>108.90000</td>\n",
       "      <td>0.0</td>\n",
       "      <td>1.0</td>\n",
       "    </tr>\n",
       "    <tr>\n",
       "      <th>Q</th>\n",
       "      <th>Mrs</th>\n",
       "      <td>1303.0</td>\n",
       "      <td>37.0</td>\n",
       "      <td>90.00000</td>\n",
       "      <td>1.0</td>\n",
       "      <td>0.0</td>\n",
       "    </tr>\n",
       "    <tr>\n",
       "      <th rowspan=\"2\" valign=\"top\">S</th>\n",
       "      <th>Miss</th>\n",
       "      <td>1085.5</td>\n",
       "      <td>29.5</td>\n",
       "      <td>188.10210</td>\n",
       "      <td>0.0</td>\n",
       "      <td>1.0</td>\n",
       "    </tr>\n",
       "    <tr>\n",
       "      <th>Mrs</th>\n",
       "      <td>988.0</td>\n",
       "      <td>51.0</td>\n",
       "      <td>53.10000</td>\n",
       "      <td>1.0</td>\n",
       "      <td>0.0</td>\n",
       "    </tr>\n",
       "    <tr>\n",
       "      <th rowspan=\"4\" valign=\"top\">2</th>\n",
       "      <th rowspan=\"2\" valign=\"top\">C</th>\n",
       "      <th>Miss</th>\n",
       "      <td>1150.0</td>\n",
       "      <td>15.5</td>\n",
       "      <td>27.71875</td>\n",
       "      <td>2.0</td>\n",
       "      <td>0.0</td>\n",
       "    </tr>\n",
       "    <tr>\n",
       "      <th>Mrs</th>\n",
       "      <td>1080.0</td>\n",
       "      <td>24.0</td>\n",
       "      <td>32.36250</td>\n",
       "      <td>1.5</td>\n",
       "      <td>0.0</td>\n",
       "    </tr>\n",
       "    <tr>\n",
       "      <th rowspan=\"2\" valign=\"top\">S</th>\n",
       "      <th>Miss</th>\n",
       "      <td>1112.5</td>\n",
       "      <td>19.5</td>\n",
       "      <td>24.50000</td>\n",
       "      <td>1.5</td>\n",
       "      <td>0.0</td>\n",
       "    </tr>\n",
       "    <tr>\n",
       "      <th>Mrs</th>\n",
       "      <td>1123.5</td>\n",
       "      <td>29.5</td>\n",
       "      <td>24.50000</td>\n",
       "      <td>1.0</td>\n",
       "      <td>0.0</td>\n",
       "    </tr>\n",
       "    <tr>\n",
       "      <th rowspan=\"6\" valign=\"top\">3</th>\n",
       "      <th rowspan=\"2\" valign=\"top\">C</th>\n",
       "      <th>Miss</th>\n",
       "      <td>1175.0</td>\n",
       "      <td>9.0</td>\n",
       "      <td>15.24580</td>\n",
       "      <td>2.0</td>\n",
       "      <td>0.0</td>\n",
       "    </tr>\n",
       "    <tr>\n",
       "      <th>Mrs</th>\n",
       "      <td>1117.0</td>\n",
       "      <td>28.0</td>\n",
       "      <td>8.51670</td>\n",
       "      <td>1.0</td>\n",
       "      <td>0.0</td>\n",
       "    </tr>\n",
       "    <tr>\n",
       "      <th rowspan=\"2\" valign=\"top\">Q</th>\n",
       "      <th>Miss</th>\n",
       "      <td>1095.0</td>\n",
       "      <td>22.0</td>\n",
       "      <td>7.75000</td>\n",
       "      <td>0.0</td>\n",
       "      <td>1.0</td>\n",
       "    </tr>\n",
       "    <tr>\n",
       "      <th>Mrs</th>\n",
       "      <td>980.0</td>\n",
       "      <td>28.0</td>\n",
       "      <td>7.75000</td>\n",
       "      <td>0.0</td>\n",
       "      <td>1.0</td>\n",
       "    </tr>\n",
       "    <tr>\n",
       "      <th rowspan=\"2\" valign=\"top\">S</th>\n",
       "      <th>Miss</th>\n",
       "      <td>1080.0</td>\n",
       "      <td>22.0</td>\n",
       "      <td>8.66250</td>\n",
       "      <td>0.0</td>\n",
       "      <td>1.0</td>\n",
       "    </tr>\n",
       "    <tr>\n",
       "      <th>Mrs</th>\n",
       "      <td>1048.0</td>\n",
       "      <td>28.0</td>\n",
       "      <td>15.02500</td>\n",
       "      <td>2.0</td>\n",
       "      <td>0.0</td>\n",
       "    </tr>\n",
       "    <tr>\n",
       "      <th rowspan=\"16\" valign=\"top\">male</th>\n",
       "      <th rowspan=\"5\" valign=\"top\">1</th>\n",
       "      <th rowspan=\"3\" valign=\"top\">C</th>\n",
       "      <th>Master</th>\n",
       "      <td>1022.0</td>\n",
       "      <td>9.5</td>\n",
       "      <td>198.43750</td>\n",
       "      <td>2.5</td>\n",
       "      <td>0.0</td>\n",
       "    </tr>\n",
       "    <tr>\n",
       "      <th>Mr</th>\n",
       "      <td>1071.0</td>\n",
       "      <td>42.5</td>\n",
       "      <td>66.33125</td>\n",
       "      <td>1.0</td>\n",
       "      <td>0.0</td>\n",
       "    </tr>\n",
       "    <tr>\n",
       "      <th>Officer</th>\n",
       "      <td>1058.5</td>\n",
       "      <td>50.0</td>\n",
       "      <td>128.01250</td>\n",
       "      <td>0.5</td>\n",
       "      <td>0.5</td>\n",
       "    </tr>\n",
       "    <tr>\n",
       "      <th rowspan=\"2\" valign=\"top\">S</th>\n",
       "      <th>Mr</th>\n",
       "      <td>1123.0</td>\n",
       "      <td>42.0</td>\n",
       "      <td>41.00000</td>\n",
       "      <td>0.0</td>\n",
       "      <td>1.0</td>\n",
       "    </tr>\n",
       "    <tr>\n",
       "      <th>Officer</th>\n",
       "      <td>1185.0</td>\n",
       "      <td>53.0</td>\n",
       "      <td>81.85830</td>\n",
       "      <td>2.0</td>\n",
       "      <td>0.0</td>\n",
       "    </tr>\n",
       "    <tr>\n",
       "      <th rowspan=\"5\" valign=\"top\">2</th>\n",
       "      <th>C</th>\n",
       "      <th>Mr</th>\n",
       "      <td>1156.0</td>\n",
       "      <td>28.0</td>\n",
       "      <td>15.03330</td>\n",
       "      <td>0.0</td>\n",
       "      <td>1.0</td>\n",
       "    </tr>\n",
       "    <tr>\n",
       "      <th>Q</th>\n",
       "      <th>Mr</th>\n",
       "      <td>942.0</td>\n",
       "      <td>48.0</td>\n",
       "      <td>11.52915</td>\n",
       "      <td>0.0</td>\n",
       "      <td>1.0</td>\n",
       "    </tr>\n",
       "    <tr>\n",
       "      <th rowspan=\"3\" valign=\"top\">S</th>\n",
       "      <th>Master</th>\n",
       "      <td>1033.5</td>\n",
       "      <td>5.0</td>\n",
       "      <td>27.75000</td>\n",
       "      <td>2.0</td>\n",
       "      <td>0.0</td>\n",
       "    </tr>\n",
       "    <tr>\n",
       "      <th>Mr</th>\n",
       "      <td>1169.5</td>\n",
       "      <td>27.5</td>\n",
       "      <td>13.00000</td>\n",
       "      <td>0.0</td>\n",
       "      <td>1.0</td>\n",
       "    </tr>\n",
       "    <tr>\n",
       "      <th>Officer</th>\n",
       "      <td>1048.5</td>\n",
       "      <td>35.5</td>\n",
       "      <td>19.50000</td>\n",
       "      <td>1.0</td>\n",
       "      <td>0.5</td>\n",
       "    </tr>\n",
       "    <tr>\n",
       "      <th rowspan=\"6\" valign=\"top\">3</th>\n",
       "      <th rowspan=\"2\" valign=\"top\">C</th>\n",
       "      <th>Master</th>\n",
       "      <td>1142.0</td>\n",
       "      <td>7.0</td>\n",
       "      <td>15.24580</td>\n",
       "      <td>2.0</td>\n",
       "      <td>0.0</td>\n",
       "    </tr>\n",
       "    <tr>\n",
       "      <th>Mr</th>\n",
       "      <td>1063.0</td>\n",
       "      <td>25.0</td>\n",
       "      <td>7.22920</td>\n",
       "      <td>0.0</td>\n",
       "      <td>1.0</td>\n",
       "    </tr>\n",
       "    <tr>\n",
       "      <th rowspan=\"2\" valign=\"top\">Q</th>\n",
       "      <th>Master</th>\n",
       "      <td>947.0</td>\n",
       "      <td>10.0</td>\n",
       "      <td>29.12500</td>\n",
       "      <td>3.0</td>\n",
       "      <td>0.0</td>\n",
       "    </tr>\n",
       "    <tr>\n",
       "      <th>Mr</th>\n",
       "      <td>1125.0</td>\n",
       "      <td>25.0</td>\n",
       "      <td>7.75000</td>\n",
       "      <td>0.0</td>\n",
       "      <td>1.0</td>\n",
       "    </tr>\n",
       "    <tr>\n",
       "      <th rowspan=\"2\" valign=\"top\">S</th>\n",
       "      <th>Master</th>\n",
       "      <td>1186.0</td>\n",
       "      <td>7.0</td>\n",
       "      <td>17.37500</td>\n",
       "      <td>2.0</td>\n",
       "      <td>0.0</td>\n",
       "    </tr>\n",
       "    <tr>\n",
       "      <th>Mr</th>\n",
       "      <td>1102.0</td>\n",
       "      <td>25.0</td>\n",
       "      <td>7.89580</td>\n",
       "      <td>0.0</td>\n",
       "      <td>1.0</td>\n",
       "    </tr>\n",
       "  </tbody>\n",
       "</table>\n",
       "</div>"
      ],
      "text/plain": [
       "                                PassengerId   Age       Fare  Family  IsAlone\n",
       "Sex    Pclass Embarked Title                                                 \n",
       "female 1      C        Miss          1052.0  34.0   98.23960     0.0      1.0\n",
       "                       Mrs           1116.0  48.0   79.20000     1.0      0.0\n",
       "                       Royalty       1306.0  39.0  108.90000     0.0      1.0\n",
       "              Q        Mrs           1303.0  37.0   90.00000     1.0      0.0\n",
       "              S        Miss          1085.5  29.5  188.10210     0.0      1.0\n",
       "                       Mrs            988.0  51.0   53.10000     1.0      0.0\n",
       "       2      C        Miss          1150.0  15.5   27.71875     2.0      0.0\n",
       "                       Mrs           1080.0  24.0   32.36250     1.5      0.0\n",
       "              S        Miss          1112.5  19.5   24.50000     1.5      0.0\n",
       "                       Mrs           1123.5  29.5   24.50000     1.0      0.0\n",
       "       3      C        Miss          1175.0   9.0   15.24580     2.0      0.0\n",
       "                       Mrs           1117.0  28.0    8.51670     1.0      0.0\n",
       "              Q        Miss          1095.0  22.0    7.75000     0.0      1.0\n",
       "                       Mrs            980.0  28.0    7.75000     0.0      1.0\n",
       "              S        Miss          1080.0  22.0    8.66250     0.0      1.0\n",
       "                       Mrs           1048.0  28.0   15.02500     2.0      0.0\n",
       "male   1      C        Master        1022.0   9.5  198.43750     2.5      0.0\n",
       "                       Mr            1071.0  42.5   66.33125     1.0      0.0\n",
       "                       Officer       1058.5  50.0  128.01250     0.5      0.5\n",
       "              S        Mr            1123.0  42.0   41.00000     0.0      1.0\n",
       "                       Officer       1185.0  53.0   81.85830     2.0      0.0\n",
       "       2      C        Mr            1156.0  28.0   15.03330     0.0      1.0\n",
       "              Q        Mr             942.0  48.0   11.52915     0.0      1.0\n",
       "              S        Master        1033.5   5.0   27.75000     2.0      0.0\n",
       "                       Mr            1169.5  27.5   13.00000     0.0      1.0\n",
       "                       Officer       1048.5  35.5   19.50000     1.0      0.5\n",
       "       3      C        Master        1142.0   7.0   15.24580     2.0      0.0\n",
       "                       Mr            1063.0  25.0    7.22920     0.0      1.0\n",
       "              Q        Master         947.0  10.0   29.12500     3.0      0.0\n",
       "                       Mr            1125.0  25.0    7.75000     0.0      1.0\n",
       "              S        Master        1186.0   7.0   17.37500     2.0      0.0\n",
       "                       Mr            1102.0  25.0    7.89580     0.0      1.0"
      ]
     },
     "execution_count": 73,
     "metadata": {},
     "output_type": "execute_result"
    }
   ],
   "source": [
    "Fare_grouped = test.groupby(['Sex','Pclass','Embarked','Title'])\n",
    "Fare_grouped_median = Fare_grouped.median()\n",
    "Fare_grouped_median"
   ]
  },
  {
   "cell_type": "code",
   "execution_count": 74,
   "metadata": {
    "collapsed": true
   },
   "outputs": [],
   "source": [
    "test['Fare'].fillna(7.89580,inplace = True)"
   ]
  },
  {
   "cell_type": "markdown",
   "metadata": {},
   "source": [
    "### Encoding Data/ Data PreProcessing:"
   ]
  },
  {
   "cell_type": "markdown",
   "metadata": {},
   "source": [
    "Most of the algorithms don't accept categorical data directly. They need to be encoded numerically. Two types of encoding are possible:\n",
    "1. One hot encoding\n",
    "1. Integer encoding\n",
    "\n",
    "In this case, I will be doing integer encoding."
   ]
  },
  {
   "cell_type": "markdown",
   "metadata": {
    "_cell_guid": "1bb2c4a5-9272-43a3-a5d8-ae1764a40ab3",
    "_uuid": "0ddf50b60aa8f3daeee0ee8447803ace070fef51"
   },
   "source": [
    "#### Encoding Sex:"
   ]
  },
  {
   "cell_type": "code",
   "execution_count": 75,
   "metadata": {
    "_cell_guid": "c1fb5c6f-c7b2-41d2-ae90-1ac7b033b365",
    "_uuid": "4c207f7674dbb62bb5ee631f62b4fe546574e3fc",
    "collapsed": true
   },
   "outputs": [],
   "source": [
    "train['Sex'] = train['Sex'].map( {'female': 1, 'male': 0} )\n",
    "test['Sex'] = test['Sex'].map( {'female': 1, 'male': 0} )"
   ]
  },
  {
   "cell_type": "markdown",
   "metadata": {},
   "source": [
    "#### Encoding Cabin:"
   ]
  },
  {
   "cell_type": "code",
   "execution_count": 76,
   "metadata": {
    "_cell_guid": "9c0dc390-304a-4c80-b486-5a41902047f6",
    "_uuid": "af5e96f19375b390b260042a916b70256fc7296b",
    "collapsed": true
   },
   "outputs": [],
   "source": [
    "Cabin_Dictionary = {\n",
    "    \"U\" : 0,\n",
    "    \"C\" : 1,\n",
    "    \"B\" : 2,\n",
    "    \"D\" : 3,\n",
    "    \"E\" : 4,\n",
    "    \"A\" : 5,\n",
    "    \"F\" : 6,\n",
    "    \"G\" : 7,\n",
    "    \"T\" : 8\n",
    "}\n",
    "train['Cabin']= train.Cabin.map(Cabin_Dictionary)\n",
    "test['Cabin']= test.Cabin.map(Cabin_Dictionary)"
   ]
  },
  {
   "cell_type": "markdown",
   "metadata": {},
   "source": [
    "#### Encoding Embarked: "
   ]
  },
  {
   "cell_type": "code",
   "execution_count": 77,
   "metadata": {
    "_cell_guid": "8bfc6eb4-82cc-400e-8e99-77c0e3eb5ff8",
    "_uuid": "6ce610ecbd96f95475cd2513d027ce376e6b8087",
    "collapsed": true
   },
   "outputs": [],
   "source": [
    "Embarked_mapping = {\n",
    "    'S': 0,\n",
    "    'C': 1,\n",
    "    'Q': 2\n",
    "}\n",
    "train['Embarked'] = train['Embarked'].map(Embarked_mapping)\n",
    "test['Embarked'] = test['Embarked'].map(Embarked_mapping)"
   ]
  },
  {
   "cell_type": "markdown",
   "metadata": {
    "_cell_guid": "3e1bbb3a-4bc2-479d-85c7-5148d7a3685c",
    "_uuid": "d650e51b4efeda2635550c10ce3b765db9a150fe",
    "collapsed": true
   },
   "source": [
    "#### Encoding Title:"
   ]
  },
  {
   "cell_type": "code",
   "execution_count": 78,
   "metadata": {
    "_cell_guid": "cb9936a7-3bae-4fb4-9293-12a012eabbcb",
    "_uuid": "77f0f24a12dffa0e8f76b10ffd3809a26cf2798b",
    "collapsed": true
   },
   "outputs": [],
   "source": [
    "Title_coding = {\n",
    "    \"Mr\": 0,\n",
    "    \"Miss\": 1,\n",
    "    \"Mrs\" : 2,\n",
    "    \"Master\": 3,\n",
    "    \"Officer\": 4,\n",
    "    \"Royalty\": 5\n",
    "}\n",
    "train['Title'] = train['Title'].map(Title_coding)\n",
    "test['Title'] = test['Title'].map(Title_coding)"
   ]
  },
  {
   "cell_type": "code",
   "execution_count": 79,
   "metadata": {
    "_cell_guid": "711a805e-4807-42a2-9368-63f1c27ecdd0",
    "_uuid": "6442f350886b6f778120d3c402a065471163ad79"
   },
   "outputs": [
    {
     "data": {
      "text/plain": [
       "Survived      int64\n",
       "Pclass        int64\n",
       "Sex           int64\n",
       "Age         float64\n",
       "Fare        float64\n",
       "Cabin         int64\n",
       "Embarked      int64\n",
       "Family        int64\n",
       "IsAlone       int64\n",
       "Title         int64\n",
       "dtype: object"
      ]
     },
     "execution_count": 79,
     "metadata": {},
     "output_type": "execute_result"
    }
   ],
   "source": [
    "train.dtypes"
   ]
  },
  {
   "cell_type": "code",
   "execution_count": 80,
   "metadata": {
    "_cell_guid": "51abe60b-4d8d-440d-9095-e9c854df841b",
    "_uuid": "abf1667eb6055015aa50183453d8a7a7e5e39b0f"
   },
   "outputs": [
    {
     "data": {
      "text/plain": [
       "PassengerId      int64\n",
       "Pclass           int64\n",
       "Sex              int64\n",
       "Age            float64\n",
       "Fare           float64\n",
       "Cabin            int64\n",
       "Embarked         int64\n",
       "Family           int64\n",
       "IsAlone          int64\n",
       "Title            int64\n",
       "dtype: object"
      ]
     },
     "execution_count": 80,
     "metadata": {},
     "output_type": "execute_result"
    }
   ],
   "source": [
    "test.dtypes"
   ]
  },
  {
   "cell_type": "markdown",
   "metadata": {},
   "source": [
    "Now all the features are ready for modelling process. Before going to next stage, let's view the correlation map again because now we can see correlation with categorical features too."
   ]
  },
  {
   "cell_type": "code",
   "execution_count": 81,
   "metadata": {},
   "outputs": [
    {
     "data": {
      "text/plain": [
       "<matplotlib.axes._subplots.AxesSubplot at 0x1a222394a8>"
      ]
     },
     "execution_count": 81,
     "metadata": {},
     "output_type": "execute_result"
    },
    {
     "data": {
      "image/png": "[encoded data removed]",
      "text/plain": [
       "<matplotlib.figure.Figure at 0x1a222ac588>"
      ]
     },
     "metadata": {},
     "output_type": "display_data"
    }
   ],
   "source": [
    "f,ax = plt.subplots(figsize = (12,10))\n",
    "cmap = sns.diverging_palette( 250 , 10 , as_cmap = True )\n",
    "\n",
    "sns.heatmap(train.corr(),annot = True,square = True,cmap =cmap,ax =ax,annot_kws = {'fontsize': 12})"
   ]
  },
  {
   "cell_type": "markdown",
   "metadata": {},
   "source": [
    "# 5. Model Fitting:"
   ]
  },
  {
   "cell_type": "markdown",
   "metadata": {},
   "source": [
    "There are various classification models we can use:\n",
    "1. Decision Tree\n",
    "1. Naive Bayes Classifier\n",
    "1. KNN Classifier\n",
    "1. SVM Classifier\n",
    "1. Random Forest\n",
    "1. Logistic Regression\n",
    "\n",
    "We will fit each of the above models one by one and then tune the parameters of one which gives least out of sample error/highest accuracy. However a single model isn't as powerful as ensemble of all these models. Random Forest is also an example of ensembled model."
   ]
  },
  {
   "cell_type": "markdown",
   "metadata": {},
   "source": [
    "First, we will split training set into training and validation set. Validation set will be used for model selection."
   ]
  },
  {
   "cell_type": "code",
   "execution_count": 82,
   "metadata": {
    "_cell_guid": "7fb9a366-6600-45b0-a6fb-e74cb0912c43",
    "_uuid": "e25559dd4a82acc7d420735698985e0d055960ca",
    "collapsed": true
   },
   "outputs": [],
   "source": [
    "X = train.drop('Survived',axis =1)\n",
    "Y = train['Survived']\n",
    "X_train,X_val,Y_train,Y_val = train_test_split(X,Y,test_size = 0.2)"
   ]
  },
  {
   "cell_type": "code",
   "execution_count": 83,
   "metadata": {
    "collapsed": true
   },
   "outputs": [],
   "source": [
    "def plot_feature_importance(model):\n",
    "    feature_imp =pd.DataFrame()\n",
    "    feature_imp['Feature'] = X.columns\n",
    "    feature_imp['Importance'] = model.feature_importances_\n",
    "    feature_imp.sort_values(by =['Importance'],ascending = False,inplace = True)\n",
    "    feature_imp.set_index('Feature',inplace= True)\n",
    "    feature_imp.plot(kind ='bar',figsize =(5,5))"
   ]
  },
  {
   "cell_type": "markdown",
   "metadata": {
    "_cell_guid": "734cf1f4-ce58-4fc9-9cca-65e27855df08",
    "_uuid": "7a4d96dd387846800a9fc2791c55ed5748d02ae7",
    "collapsed": true
   },
   "source": [
    "#### Decision Tree:"
   ]
  },
  {
   "cell_type": "code",
   "execution_count": 84,
   "metadata": {
    "_cell_guid": "0ea0c143-e3a9-49ad-89a1-09b0757d16de",
    "_uuid": "378c9b691a97539bcfbc0fb30d208530535d9563"
   },
   "outputs": [
    {
     "name": "stdout",
     "output_type": "stream",
     "text": [
      "In sample accuracy: 98.8764044944\n",
      "Out sample accuracy: 82.1229050279\n"
     ]
    },
    {
     "data": {
      "image/png": "[encoded data removed]",
      "text/plain": [
       "<matplotlib.figure.Figure at 0x1a221119b0>"
      ]
     },
     "metadata": {},
     "output_type": "display_data"
    }
   ],
   "source": [
    "dt = DecisionTreeClassifier()\n",
    "dt.fit(X_train,Y_train)\n",
    "Y_pred = dt.predict(X_val)\n",
    "print(\"In sample accuracy: \"+ str(dt.score(X_train,Y_train)*100))\n",
    "print(\"Out sample accuracy: \"+ str (dt.score(X_val,Y_val)*100))\n",
    "plot_feature_importance(dt)"
   ]
  },
  {
   "cell_type": "markdown",
   "metadata": {},
   "source": [
    "Huge difference between In sample and out of sample accuracy implies that there is overfitting in this model which can be avoided by parameter tuning. Moreover Title, Fare and Age are the most important factors for decision tree to decide."
   ]
  },
  {
   "cell_type": "markdown",
   "metadata": {},
   "source": [
    "#### Naive Bayes Classifier:"
   ]
  },
  {
   "cell_type": "code",
   "execution_count": 85,
   "metadata": {
    "_cell_guid": "6971a18e-b1a5-43ee-ada8-8fa1c988af50",
    "_uuid": "6361054703a5e0289f9ce516c10645e6f2238c61"
   },
   "outputs": [
    {
     "name": "stdout",
     "output_type": "stream",
     "text": [
      "In sample accuracy: 75.8426966292\n",
      "Out sample accuracy: 75.9776536313\n"
     ]
    }
   ],
   "source": [
    "NB = GaussianNB()\n",
    "NB.fit(X_train,Y_train)\n",
    "Y_pred = NB.predict(X_val)\n",
    "print(\"In sample accuracy: \"+ str(NB.score(X_train,Y_train)*100))\n",
    "print(\"Out sample accuracy: \"+ str (NB.score(X_val,Y_val)*100))"
   ]
  },
  {
   "cell_type": "markdown",
   "metadata": {
    "_cell_guid": "7cc3663f-272a-44c5-b8a4-090dc54ab895",
    "_uuid": "656a293e847d608942184458597cd00561f79010",
    "collapsed": true
   },
   "source": [
    "Its accuracy is lower than Decision Tree but it's **generalisation error** is low and it is not overfitting data."
   ]
  },
  {
   "cell_type": "markdown",
   "metadata": {},
   "source": [
    "#### KNN Classifier:"
   ]
  },
  {
   "cell_type": "code",
   "execution_count": 86,
   "metadata": {},
   "outputs": [
    {
     "name": "stdout",
     "output_type": "stream",
     "text": [
      "In sample accuracy: 84.8314606742\n",
      "Out sample accuracy: 74.3016759777\n"
     ]
    }
   ],
   "source": [
    "knn = KNeighborsClassifier(n_neighbors = 3)\n",
    "knn.fit(X_train,Y_train)\n",
    "Y_pred = knn.predict(X_val)\n",
    "print(\"In sample accuracy: \"+ str(knn.score(X_train,Y_train)*100))\n",
    "print(\"Out sample accuracy: \"+ str (knn.score(X_val,Y_val)*100))"
   ]
  },
  {
   "cell_type": "markdown",
   "metadata": {},
   "source": [
    "#### Support Vector Machine:"
   ]
  },
  {
   "cell_type": "code",
   "execution_count": 87,
   "metadata": {},
   "outputs": [
    {
     "name": "stdout",
     "output_type": "stream",
     "text": [
      "In sample accuracy: 91.9943820225\n",
      "Out sample accuracy: 73.7430167598\n"
     ]
    }
   ],
   "source": [
    "svc = SVC()\n",
    "svc.fit(X_train,Y_train)\n",
    "Y_pred = svc.predict(X_val)\n",
    "print(\"In sample accuracy: \"+ str(svc.score(X_train,Y_train)*100))\n",
    "print(\"Out sample accuracy: \"+ str (svc.score(X_val,Y_val)*100))"
   ]
  },
  {
   "cell_type": "markdown",
   "metadata": {},
   "source": [
    "#### Logistic Regression:"
   ]
  },
  {
   "cell_type": "code",
   "execution_count": 88,
   "metadata": {},
   "outputs": [
    {
     "name": "stdout",
     "output_type": "stream",
     "text": [
      "In sample accuracy: 81.1797752809\n",
      "Out sample accuracy: 83.2402234637\n"
     ]
    }
   ],
   "source": [
    "logreg = LogisticRegression()\n",
    "logreg.fit(X_train,Y_train)\n",
    "Y_pred = logreg.predict(X_val)\n",
    "print(\"In sample accuracy: \"+ str(logreg.score(X_train,Y_train)*100))\n",
    "print(\"Out sample accuracy: \"+ str (logreg.score(X_val,Y_val)*100))"
   ]
  },
  {
   "cell_type": "markdown",
   "metadata": {},
   "source": [
    "Logistic Regression is giving good accuracy out of all till now and also low generalisation error."
   ]
  },
  {
   "cell_type": "markdown",
   "metadata": {},
   "source": [
    "#### Random Forest:"
   ]
  },
  {
   "cell_type": "code",
   "execution_count": 89,
   "metadata": {},
   "outputs": [
    {
     "name": "stdout",
     "output_type": "stream",
     "text": [
      "In sample accuracy: 96.9101123596\n",
      "Out sample accuracy: 83.7988826816\n"
     ]
    },
    {
     "data": {
      "image/png": "[encoded data removed]",
      "text/plain": [
       "<matplotlib.figure.Figure at 0x1a22ce4f60>"
      ]
     },
     "metadata": {},
     "output_type": "display_data"
    }
   ],
   "source": [
    "rf = RandomForestClassifier()\n",
    "rf.fit(X_train,Y_train)\n",
    "Y_pred = rf.predict(X_val)\n",
    "print(\"In sample accuracy: \"+ str(rf.score(X_train,Y_train)*100))\n",
    "print(\"Out sample accuracy: \"+ str (rf.score(X_val,Y_val)*100))\n",
    "plot_feature_importance(rf)"
   ]
  },
  {
   "cell_type": "markdown",
   "metadata": {},
   "source": [
    "Random Forest is also offering good enough accuracy but it is also overfitting.We can reduce this overfitting by tuning its parameters in next section."
   ]
  },
  {
   "cell_type": "markdown",
   "metadata": {},
   "source": [
    "## 6. Cross Validation and Hyperparameter Tuning:"
   ]
  },
  {
   "cell_type": "markdown",
   "metadata": {},
   "source": [
    "We will be performing 10 fold cross-validation on Random Forest model and tune one of its many parameters to prevent overfitting. Parameter which we will be tuning is max depth of decision trees built by the forest."
   ]
  },
  {
   "cell_type": "code",
   "execution_count": 90,
   "metadata": {
    "_cell_guid": "b07ba50c-7c05-42dd-ba2e-449d1c8f4fce",
    "_uuid": "c8abf1f5afff03d94ac261478af634f6b13d67d5",
    "collapsed": true
   },
   "outputs": [],
   "source": [
    "def parameter_score(depth):\n",
    "    rf = RandomForestClassifier(max_depth = depth,random_state =84)\n",
    "    kf = KFold(n_splits =10)\n",
    "    outcomes =[]\n",
    "    for train_index,test_index in kf.split(X):\n",
    "        X_train,X_test = X.values[train_index],X.values[test_index]\n",
    "        Y_train,Y_test = Y.values[train_index],Y.values[test_index]\n",
    "        rf.fit(X_train,Y_train)\n",
    "        predictions = rf.predict(X_test)\n",
    "        Ein.append(rf.score(X_train,Y_train))\n",
    "        score = rf.score(X_test,Y_test)\n",
    "        outcomes.append(score)\n",
    "    return np.mean(outcomes)*100\n"
   ]
  },
  {
   "cell_type": "markdown",
   "metadata": {},
   "source": [
    "<img src ='Tuning.png'>\n",
    "We observe that below a certain maximum depth there is underfitting and above it, there is overfitting. Therefore we will find that optimal maximum depth where accuracy on validation set reaches local maxima or mean average error reaches local minima."
   ]
  },
  {
   "cell_type": "code",
   "execution_count": 91,
   "metadata": {},
   "outputs": [
    {
     "ename": "NameError",
     "evalue": "name 'Ein' is not defined",
     "output_type": "error",
     "traceback": [
      "\u001b[0;31m---------------------------------------------------------------------------\u001b[0m",
      "\u001b[0;31mNameError\u001b[0m                                 Traceback (most recent call last)",
      "\u001b[0;32m<ipython-input-91-0f79feb713fe>\u001b[0m in \u001b[0;36m<module>\u001b[0;34m()\u001b[0m\n\u001b[1;32m      1\u001b[0m \u001b[0;32mfor\u001b[0m \u001b[0mi\u001b[0m \u001b[0;32min\u001b[0m \u001b[0mrange\u001b[0m\u001b[0;34m(\u001b[0m\u001b[0;36m1\u001b[0m\u001b[0;34m,\u001b[0m\u001b[0;36m10\u001b[0m\u001b[0;34m)\u001b[0m\u001b[0;34m:\u001b[0m\u001b[0;34m\u001b[0m\u001b[0m\n\u001b[0;32m----> 2\u001b[0;31m     \u001b[0mprint\u001b[0m\u001b[0;34m(\u001b[0m\u001b[0;34m\"Max depth: %d  \\t\\t Accuracy:  %.2f\"\u001b[0m \u001b[0;34m%\u001b[0m\u001b[0;34m(\u001b[0m\u001b[0mi\u001b[0m\u001b[0;34m,\u001b[0m\u001b[0mparameter_score\u001b[0m\u001b[0;34m(\u001b[0m\u001b[0mi\u001b[0m\u001b[0;34m)\u001b[0m \u001b[0;34m)\u001b[0m\u001b[0;34m)\u001b[0m\u001b[0;34m\u001b[0m\u001b[0m\n\u001b[0m",
      "\u001b[0;32m<ipython-input-90-3ce2bf50821b>\u001b[0m in \u001b[0;36mparameter_score\u001b[0;34m(depth)\u001b[0m\n\u001b[1;32m      8\u001b[0m         \u001b[0mrf\u001b[0m\u001b[0;34m.\u001b[0m\u001b[0mfit\u001b[0m\u001b[0;34m(\u001b[0m\u001b[0mX_train\u001b[0m\u001b[0;34m,\u001b[0m\u001b[0mY_train\u001b[0m\u001b[0;34m)\u001b[0m\u001b[0;34m\u001b[0m\u001b[0m\n\u001b[1;32m      9\u001b[0m         \u001b[0mpredictions\u001b[0m \u001b[0;34m=\u001b[0m \u001b[0mrf\u001b[0m\u001b[0;34m.\u001b[0m\u001b[0mpredict\u001b[0m\u001b[0;34m(\u001b[0m\u001b[0mX_test\u001b[0m\u001b[0;34m)\u001b[0m\u001b[0;34m\u001b[0m\u001b[0m\n\u001b[0;32m---> 10\u001b[0;31m         \u001b[0mEin\u001b[0m\u001b[0;34m.\u001b[0m\u001b[0mappend\u001b[0m\u001b[0;34m(\u001b[0m\u001b[0mrf\u001b[0m\u001b[0;34m.\u001b[0m\u001b[0mscore\u001b[0m\u001b[0;34m(\u001b[0m\u001b[0mX_train\u001b[0m\u001b[0;34m,\u001b[0m\u001b[0mY_train\u001b[0m\u001b[0;34m)\u001b[0m\u001b[0;34m)\u001b[0m\u001b[0;34m\u001b[0m\u001b[0m\n\u001b[0m\u001b[1;32m     11\u001b[0m         \u001b[0mscore\u001b[0m \u001b[0;34m=\u001b[0m \u001b[0mrf\u001b[0m\u001b[0;34m.\u001b[0m\u001b[0mscore\u001b[0m\u001b[0;34m(\u001b[0m\u001b[0mX_test\u001b[0m\u001b[0;34m,\u001b[0m\u001b[0mY_test\u001b[0m\u001b[0;34m)\u001b[0m\u001b[0;34m\u001b[0m\u001b[0m\n\u001b[1;32m     12\u001b[0m         \u001b[0moutcomes\u001b[0m\u001b[0;34m.\u001b[0m\u001b[0mappend\u001b[0m\u001b[0;34m(\u001b[0m\u001b[0mscore\u001b[0m\u001b[0;34m)\u001b[0m\u001b[0;34m\u001b[0m\u001b[0m\n",
      "\u001b[0;31mNameError\u001b[0m: name 'Ein' is not defined"
     ]
    }
   ],
   "source": [
    "for i in range(1,10):\n",
    "    print(\"Max depth: %d  \\t\\t Accuracy:  %.2f\" %(i,parameter_score(i) ))"
   ]
  },
  {
   "cell_type": "markdown",
   "metadata": {},
   "source": [
    "We observe that we get highest accuracy at max depth =5. So we will be using that parameter in our model and fit data using it."
   ]
  },
  {
   "cell_type": "code",
   "execution_count": null,
   "metadata": {},
   "outputs": [],
   "source": [
    "rf = RandomForestClassifier(max_depth = 5, random_state =84)\n",
    "rf.fit(X,Y)\n",
    "plot_feature_importance(rf)"
   ]
  },
  {
   "cell_type": "markdown",
   "metadata": {},
   "source": [
    "## 7. Model Deployment on Test Data:"
   ]
  },
  {
   "cell_type": "code",
   "execution_count": null,
   "metadata": {
    "_cell_guid": "943d43e0-8d5b-4620-afc5-216099140014",
    "_uuid": "91dbea1c960ae2683b84dc4331caafad0d0bf7e6",
    "collapsed": true
   },
   "outputs": [],
   "source": [
    "ids = test['PassengerId']\n",
    "predictions = logreg.predict(test.drop('PassengerId',axis =1))\n",
    "output = pd.DataFrame({'PassengerId': ids,'Survived': predictions})\n",
    "output.to_csv('titanic_predictions.csv',index=False)"
   ]
  },
  {
   "cell_type": "markdown",
   "metadata": {
    "_cell_guid": "c600829b-0729-4cf0-bd9b-74ae29807782",
    "_uuid": "9ca266cd82e7e08e901e36715dd63aa797982fb8",
    "collapsed": true
   },
   "source": [
    "When I submitted predictions using above model on Kaggle, I acheived Accuracy score of **0.79425.** and place among **top 25%** of submissions.\n",
    "<img src='Kaggle.png' width = 800 height = 800>"
   ]
  },
  {
   "cell_type": "markdown",
   "metadata": {},
   "source": [
    "#### References:"
   ]
  },
  {
   "cell_type": "markdown",
   "metadata": {},
   "source": [
    "This project was one of the learning exercise for me. Therefore I took help from few notebooks from Kaggle and a blog:\n",
    "1. https://ahmedbesbes.com/how-to-score-08134-in-titanic-kaggle-challenge.html\n",
    "1. https://www.kaggle.com/helgejo/an-interactive-data-science-tutorial\n",
    "1. https://www.kaggle.com/startupsci/titanic-data-science-solutions"
   ]
  }
 ],
 "metadata": {
  "kernelspec": {
   "display_name": "Python 3",
   "language": "python",
   "name": "python3"
  },
  "language_info": {
   "codemirror_mode": {
    "name": "ipython",
    "version": 3
   },
   "file_extension": ".py",
   "mimetype": "text/x-python",
   "name": "python",
   "nbconvert_exporter": "python",
   "pygments_lexer": "ipython3",
   "version": "3.6.3"
  }
 },
 "nbformat": 4,
 "nbformat_minor": 1
}
